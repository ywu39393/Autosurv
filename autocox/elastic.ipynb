{
 "cells": [
  {
   "cell_type": "code",
   "execution_count": 1,
   "id": "66bec369-8231-4f56-be84-b8c888a5b7d6",
   "metadata": {},
   "outputs": [],
   "source": [
    "import os \n",
    "\n",
    "os.chdir('/work/sghoshstat/ywu39393/AUTOSurv/autostat')"
   ]
  },
  {
   "cell_type": "code",
   "execution_count": 2,
   "id": "6423038a-143a-4e46-8a96-ebb0a0596399",
   "metadata": {},
   "outputs": [],
   "source": [
    "import pandas as pd"
   ]
  },
  {
   "cell_type": "code",
   "execution_count": 3,
   "id": "83b92b47-76c3-4ac7-a6a9-650532c53a23",
   "metadata": {},
   "outputs": [
    {
     "data": {
      "text/plain": [
       "(857, 3222)"
      ]
     },
     "execution_count": 3,
     "metadata": {},
     "output_type": "execute_result"
    }
   ],
   "source": [
    "data_t = pd.read_csv('train_test_split/minmax_normalized/data_train_minmax_overall.csv')\n",
    "data_t.shape"
   ]
  },
  {
   "cell_type": "code",
   "execution_count": 4,
   "id": "435f5b4f-4cb5-4d0d-8758-ab78882154c6",
   "metadata": {},
   "outputs": [
    {
     "data": {
      "text/plain": [
       "(201, 3222)"
      ]
     },
     "execution_count": 4,
     "metadata": {},
     "output_type": "execute_result"
    }
   ],
   "source": [
    "data_test = pd.read_csv('train_test_split/minmax_normalized/data_test_minmax_overall.csv')\n",
    "data_test.shape"
   ]
  },
  {
   "cell_type": "code",
   "execution_count": 5,
   "id": "4e8d1ea2-110f-4473-827e-8883cffcc52a",
   "metadata": {},
   "outputs": [
    {
     "data": {
      "text/plain": [
       "(1058, 3222)"
      ]
     },
     "execution_count": 5,
     "metadata": {},
     "output_type": "execute_result"
    }
   ],
   "source": [
    "data = pd.concat([data_t, data_test], ignore_index=True)\n",
    "data.shape"
   ]
  },
  {
   "cell_type": "code",
   "execution_count": 6,
   "id": "f883da35-f46d-481f-8576-71b86667e928",
   "metadata": {},
   "outputs": [
    {
     "data": {
      "text/plain": [
       "(857, 2706)"
      ]
     },
     "execution_count": 6,
     "metadata": {},
     "output_type": "execute_result"
    }
   ],
   "source": [
    "data_gene = pd.read_csv('train_test_split/minmax_normalized/data_train_gene_minmax_overall.csv')\n",
    "data_gene.shape"
   ]
  },
  {
   "cell_type": "code",
   "execution_count": 7,
   "id": "981e0bfc-3280-448a-8baa-2a5eac6f62d8",
   "metadata": {},
   "outputs": [
    {
     "data": {
      "text/plain": [
       "(857, 523)"
      ]
     },
     "execution_count": 7,
     "metadata": {},
     "output_type": "execute_result"
    }
   ],
   "source": [
    "data_mirna = pd.read_csv('train_test_split/minmax_normalized/data_train_mirna_minmax_overall.csv')\n",
    "data_mirna.shape"
   ]
  },
  {
   "cell_type": "markdown",
   "id": "803b76e1-60c4-453d-a594-c9c6c7759be8",
   "metadata": {
    "tags": []
   },
   "source": [
    "# elastic net regression"
   ]
  },
  {
   "cell_type": "code",
   "execution_count": 8,
   "id": "955ea506-a439-42c4-a2d4-139d0a43f7a8",
   "metadata": {},
   "outputs": [],
   "source": [
    "import numpy as np\n",
    "import pandas as pd\n",
    "from sklearn.linear_model import ElasticNet\n",
    "from sklearn.model_selection import train_test_split\n",
    "from sklearn.preprocessing import StandardScaler\n",
    "from sksurv.metrics import concordance_index_censored\n",
    "from sklearn.linear_model import ElasticNetCV\n"
   ]
  },
  {
   "cell_type": "code",
   "execution_count": 9,
   "id": "7451062c-b9c8-44b4-abed-0a0bf2ba99aa",
   "metadata": {},
   "outputs": [
    {
     "data": {
      "text/html": [
       "<div>\n",
       "<style scoped>\n",
       "    .dataframe tbody tr th:only-of-type {\n",
       "        vertical-align: middle;\n",
       "    }\n",
       "\n",
       "    .dataframe tbody tr th {\n",
       "        vertical-align: top;\n",
       "    }\n",
       "\n",
       "    .dataframe thead th {\n",
       "        text-align: right;\n",
       "    }\n",
       "</style>\n",
       "<table border=\"1\" class=\"dataframe\">\n",
       "  <thead>\n",
       "    <tr style=\"text-align: right;\">\n",
       "      <th></th>\n",
       "      <th>hsa.let.7d</th>\n",
       "      <th>hsa.let.7f.1</th>\n",
       "      <th>hsa.let.7f.2</th>\n",
       "      <th>hsa.let.7g</th>\n",
       "      <th>hsa.mir.100</th>\n",
       "      <th>hsa.mir.101.1</th>\n",
       "      <th>hsa.mir.101.2</th>\n",
       "      <th>hsa.mir.103a.1</th>\n",
       "      <th>hsa.mir.103a.2</th>\n",
       "      <th>hsa.mir.105.1</th>\n",
       "      <th>...</th>\n",
       "      <th>ENSG00000275302</th>\n",
       "      <th>ENSG00000275713</th>\n",
       "      <th>ENSG00000275832</th>\n",
       "      <th>ENSG00000276231</th>\n",
       "      <th>ENSG00000276966</th>\n",
       "      <th>ENSG00000277161</th>\n",
       "      <th>ENSG00000277494</th>\n",
       "      <th>ENSG00000277632</th>\n",
       "      <th>ENSG00000278677</th>\n",
       "      <th>ENSG00000278828</th>\n",
       "    </tr>\n",
       "  </thead>\n",
       "  <tbody>\n",
       "    <tr>\n",
       "      <th>0</th>\n",
       "      <td>0.499320</td>\n",
       "      <td>0.437412</td>\n",
       "      <td>0.437041</td>\n",
       "      <td>0.311204</td>\n",
       "      <td>0.492384</td>\n",
       "      <td>0.242038</td>\n",
       "      <td>0.231043</td>\n",
       "      <td>0.513902</td>\n",
       "      <td>0.513657</td>\n",
       "      <td>0.450414</td>\n",
       "      <td>...</td>\n",
       "      <td>0.406375</td>\n",
       "      <td>0.515713</td>\n",
       "      <td>0.461430</td>\n",
       "      <td>0.344072</td>\n",
       "      <td>0.316841</td>\n",
       "      <td>0.581027</td>\n",
       "      <td>0.136593</td>\n",
       "      <td>0.309727</td>\n",
       "      <td>0.619096</td>\n",
       "      <td>0.736450</td>\n",
       "    </tr>\n",
       "    <tr>\n",
       "      <th>1</th>\n",
       "      <td>0.551029</td>\n",
       "      <td>0.568786</td>\n",
       "      <td>0.572681</td>\n",
       "      <td>0.475083</td>\n",
       "      <td>0.464769</td>\n",
       "      <td>0.436789</td>\n",
       "      <td>0.431574</td>\n",
       "      <td>0.750585</td>\n",
       "      <td>0.750376</td>\n",
       "      <td>0.000000</td>\n",
       "      <td>...</td>\n",
       "      <td>0.358977</td>\n",
       "      <td>0.493683</td>\n",
       "      <td>0.408876</td>\n",
       "      <td>0.433838</td>\n",
       "      <td>0.454092</td>\n",
       "      <td>0.589997</td>\n",
       "      <td>0.190898</td>\n",
       "      <td>0.184881</td>\n",
       "      <td>0.327832</td>\n",
       "      <td>0.518980</td>\n",
       "    </tr>\n",
       "    <tr>\n",
       "      <th>2</th>\n",
       "      <td>0.383912</td>\n",
       "      <td>0.432159</td>\n",
       "      <td>0.433002</td>\n",
       "      <td>0.315988</td>\n",
       "      <td>0.683195</td>\n",
       "      <td>0.550232</td>\n",
       "      <td>0.547749</td>\n",
       "      <td>0.612225</td>\n",
       "      <td>0.611744</td>\n",
       "      <td>0.000000</td>\n",
       "      <td>...</td>\n",
       "      <td>0.484220</td>\n",
       "      <td>0.009179</td>\n",
       "      <td>0.407113</td>\n",
       "      <td>0.299033</td>\n",
       "      <td>0.067172</td>\n",
       "      <td>0.586501</td>\n",
       "      <td>0.093736</td>\n",
       "      <td>0.584214</td>\n",
       "      <td>0.104556</td>\n",
       "      <td>0.154693</td>\n",
       "    </tr>\n",
       "    <tr>\n",
       "      <th>3</th>\n",
       "      <td>0.398609</td>\n",
       "      <td>0.489787</td>\n",
       "      <td>0.489789</td>\n",
       "      <td>0.294478</td>\n",
       "      <td>0.636696</td>\n",
       "      <td>0.542641</td>\n",
       "      <td>0.534874</td>\n",
       "      <td>0.569820</td>\n",
       "      <td>0.567907</td>\n",
       "      <td>0.020774</td>\n",
       "      <td>...</td>\n",
       "      <td>0.308629</td>\n",
       "      <td>0.082920</td>\n",
       "      <td>0.414558</td>\n",
       "      <td>0.424757</td>\n",
       "      <td>0.021270</td>\n",
       "      <td>0.519437</td>\n",
       "      <td>0.158639</td>\n",
       "      <td>0.248263</td>\n",
       "      <td>0.011822</td>\n",
       "      <td>0.079747</td>\n",
       "    </tr>\n",
       "    <tr>\n",
       "      <th>4</th>\n",
       "      <td>0.485919</td>\n",
       "      <td>0.474499</td>\n",
       "      <td>0.477889</td>\n",
       "      <td>0.550921</td>\n",
       "      <td>0.584468</td>\n",
       "      <td>0.574000</td>\n",
       "      <td>0.565838</td>\n",
       "      <td>0.594480</td>\n",
       "      <td>0.595835</td>\n",
       "      <td>0.033543</td>\n",
       "      <td>...</td>\n",
       "      <td>0.202231</td>\n",
       "      <td>0.403341</td>\n",
       "      <td>0.053372</td>\n",
       "      <td>0.214786</td>\n",
       "      <td>0.370362</td>\n",
       "      <td>0.667011</td>\n",
       "      <td>0.068821</td>\n",
       "      <td>0.512853</td>\n",
       "      <td>0.469517</td>\n",
       "      <td>0.761500</td>\n",
       "    </tr>\n",
       "  </tbody>\n",
       "</table>\n",
       "<p>5 rows × 3215 columns</p>\n",
       "</div>"
      ],
      "text/plain": [
       "   hsa.let.7d  hsa.let.7f.1  hsa.let.7f.2  hsa.let.7g  hsa.mir.100  \\\n",
       "0    0.499320      0.437412      0.437041    0.311204     0.492384   \n",
       "1    0.551029      0.568786      0.572681    0.475083     0.464769   \n",
       "2    0.383912      0.432159      0.433002    0.315988     0.683195   \n",
       "3    0.398609      0.489787      0.489789    0.294478     0.636696   \n",
       "4    0.485919      0.474499      0.477889    0.550921     0.584468   \n",
       "\n",
       "   hsa.mir.101.1  hsa.mir.101.2  hsa.mir.103a.1  hsa.mir.103a.2  \\\n",
       "0       0.242038       0.231043        0.513902        0.513657   \n",
       "1       0.436789       0.431574        0.750585        0.750376   \n",
       "2       0.550232       0.547749        0.612225        0.611744   \n",
       "3       0.542641       0.534874        0.569820        0.567907   \n",
       "4       0.574000       0.565838        0.594480        0.595835   \n",
       "\n",
       "   hsa.mir.105.1  ...  ENSG00000275302  ENSG00000275713  ENSG00000275832  \\\n",
       "0       0.450414  ...         0.406375         0.515713         0.461430   \n",
       "1       0.000000  ...         0.358977         0.493683         0.408876   \n",
       "2       0.000000  ...         0.484220         0.009179         0.407113   \n",
       "3       0.020774  ...         0.308629         0.082920         0.414558   \n",
       "4       0.033543  ...         0.202231         0.403341         0.053372   \n",
       "\n",
       "   ENSG00000276231  ENSG00000276966  ENSG00000277161  ENSG00000277494  \\\n",
       "0         0.344072         0.316841         0.581027         0.136593   \n",
       "1         0.433838         0.454092         0.589997         0.190898   \n",
       "2         0.299033         0.067172         0.586501         0.093736   \n",
       "3         0.424757         0.021270         0.519437         0.158639   \n",
       "4         0.214786         0.370362         0.667011         0.068821   \n",
       "\n",
       "   ENSG00000277632  ENSG00000278677  ENSG00000278828  \n",
       "0         0.309727         0.619096         0.736450  \n",
       "1         0.184881         0.327832         0.518980  \n",
       "2         0.584214         0.104556         0.154693  \n",
       "3         0.248263         0.011822         0.079747  \n",
       "4         0.512853         0.469517         0.761500  \n",
       "\n",
       "[5 rows x 3215 columns]"
      ]
     },
     "execution_count": 9,
     "metadata": {},
     "output_type": "execute_result"
    }
   ],
   "source": [
    "\n",
    "\n",
    "# Assuming 'time' and 'event' are the columns to be excluded from covariates\n",
    "X = data.iloc[:,7:]\n",
    "y = data.iloc[:,2]\n",
    "X.head(5)"
   ]
  },
  {
   "cell_type": "code",
   "execution_count": 10,
   "id": "cfc0c0a2-1503-498d-9ef5-f9b267e46624",
   "metadata": {},
   "outputs": [
    {
     "data": {
      "text/plain": [
       "(1058, 3215)"
      ]
     },
     "execution_count": 10,
     "metadata": {},
     "output_type": "execute_result"
    }
   ],
   "source": [
    "scaler = StandardScaler()\n",
    "X_scaled = scaler.fit_transform(X)\n",
    "X_scaled.shape"
   ]
  },
  {
   "cell_type": "code",
   "execution_count": 11,
   "id": "6a2c4e0d-f38a-40c5-a466-7050e9449e25",
   "metadata": {},
   "outputs": [],
   "source": [
    "X_train, X_test, y_train, y_test = train_test_split(X_scaled, y, test_size=0.2, random_state=42)"
   ]
  },
  {
   "cell_type": "markdown",
   "id": "76013a02-dc23-4eaf-b8a0-8b34f72bc0bd",
   "metadata": {},
   "source": [
    "## Get the optimal parameters"
   ]
  },
  {
   "cell_type": "code",
   "execution_count": 12,
   "id": "6b2ad779-c9c0-473e-bb7e-2d52adaab46a",
   "metadata": {},
   "outputs": [
    {
     "name": "stderr",
     "output_type": "stream",
     "text": [
      "/common/sghoshstat/ywu39393/DKL/lib/python3.9/site-packages/sklearn/linear_model/_coordinate_descent.py:628: ConvergenceWarning: Objective did not converge. You might want to increase the number of iterations, check the scale of the features or consider increasing regularisation. Duality gap: 1.395e+08, tolerance: 8.095e+04\n",
      "  model = cd_fast.enet_coordinate_descent(\n",
      "/common/sghoshstat/ywu39393/DKL/lib/python3.9/site-packages/sklearn/linear_model/_coordinate_descent.py:628: ConvergenceWarning: Objective did not converge. You might want to increase the number of iterations, check the scale of the features or consider increasing regularisation. Duality gap: 7.032e+07, tolerance: 8.095e+04\n",
      "  model = cd_fast.enet_coordinate_descent(\n",
      "/common/sghoshstat/ywu39393/DKL/lib/python3.9/site-packages/sklearn/linear_model/_coordinate_descent.py:628: ConvergenceWarning: Objective did not converge. You might want to increase the number of iterations, check the scale of the features or consider increasing regularisation. Duality gap: 2.929e+07, tolerance: 8.095e+04\n",
      "  model = cd_fast.enet_coordinate_descent(\n",
      "/common/sghoshstat/ywu39393/DKL/lib/python3.9/site-packages/sklearn/linear_model/_coordinate_descent.py:628: ConvergenceWarning: Objective did not converge. You might want to increase the number of iterations, check the scale of the features or consider increasing regularisation. Duality gap: 1.092e+07, tolerance: 8.095e+04\n",
      "  model = cd_fast.enet_coordinate_descent(\n",
      "/common/sghoshstat/ywu39393/DKL/lib/python3.9/site-packages/sklearn/linear_model/_coordinate_descent.py:628: ConvergenceWarning: Objective did not converge. You might want to increase the number of iterations, check the scale of the features or consider increasing regularisation. Duality gap: 3.564e+06, tolerance: 8.095e+04\n",
      "  model = cd_fast.enet_coordinate_descent(\n",
      "/common/sghoshstat/ywu39393/DKL/lib/python3.9/site-packages/sklearn/linear_model/_coordinate_descent.py:628: ConvergenceWarning: Objective did not converge. You might want to increase the number of iterations, check the scale of the features or consider increasing regularisation. Duality gap: 1.440e+08, tolerance: 8.743e+04\n",
      "  model = cd_fast.enet_coordinate_descent(\n",
      "/common/sghoshstat/ywu39393/DKL/lib/python3.9/site-packages/sklearn/linear_model/_coordinate_descent.py:628: ConvergenceWarning: Objective did not converge. You might want to increase the number of iterations, check the scale of the features or consider increasing regularisation. Duality gap: 7.678e+07, tolerance: 8.743e+04\n",
      "  model = cd_fast.enet_coordinate_descent(\n",
      "/common/sghoshstat/ywu39393/DKL/lib/python3.9/site-packages/sklearn/linear_model/_coordinate_descent.py:628: ConvergenceWarning: Objective did not converge. You might want to increase the number of iterations, check the scale of the features or consider increasing regularisation. Duality gap: 3.446e+07, tolerance: 8.743e+04\n",
      "  model = cd_fast.enet_coordinate_descent(\n",
      "/common/sghoshstat/ywu39393/DKL/lib/python3.9/site-packages/sklearn/linear_model/_coordinate_descent.py:628: ConvergenceWarning: Objective did not converge. You might want to increase the number of iterations, check the scale of the features or consider increasing regularisation. Duality gap: 1.249e+07, tolerance: 8.743e+04\n",
      "  model = cd_fast.enet_coordinate_descent(\n",
      "/common/sghoshstat/ywu39393/DKL/lib/python3.9/site-packages/sklearn/linear_model/_coordinate_descent.py:628: ConvergenceWarning: Objective did not converge. You might want to increase the number of iterations, check the scale of the features or consider increasing regularisation. Duality gap: 4.147e+06, tolerance: 8.743e+04\n",
      "  model = cd_fast.enet_coordinate_descent(\n",
      "/common/sghoshstat/ywu39393/DKL/lib/python3.9/site-packages/sklearn/linear_model/_coordinate_descent.py:628: ConvergenceWarning: Objective did not converge. You might want to increase the number of iterations, check the scale of the features or consider increasing regularisation. Duality gap: 1.200e+08, tolerance: 8.060e+04\n",
      "  model = cd_fast.enet_coordinate_descent(\n",
      "/common/sghoshstat/ywu39393/DKL/lib/python3.9/site-packages/sklearn/linear_model/_coordinate_descent.py:628: ConvergenceWarning: Objective did not converge. You might want to increase the number of iterations, check the scale of the features or consider increasing regularisation. Duality gap: 6.956e+07, tolerance: 8.060e+04\n",
      "  model = cd_fast.enet_coordinate_descent(\n",
      "/common/sghoshstat/ywu39393/DKL/lib/python3.9/site-packages/sklearn/linear_model/_coordinate_descent.py:628: ConvergenceWarning: Objective did not converge. You might want to increase the number of iterations, check the scale of the features or consider increasing regularisation. Duality gap: 3.064e+07, tolerance: 8.060e+04\n",
      "  model = cd_fast.enet_coordinate_descent(\n",
      "/common/sghoshstat/ywu39393/DKL/lib/python3.9/site-packages/sklearn/linear_model/_coordinate_descent.py:628: ConvergenceWarning: Objective did not converge. You might want to increase the number of iterations, check the scale of the features or consider increasing regularisation. Duality gap: 1.119e+07, tolerance: 8.060e+04\n",
      "  model = cd_fast.enet_coordinate_descent(\n",
      "/common/sghoshstat/ywu39393/DKL/lib/python3.9/site-packages/sklearn/linear_model/_coordinate_descent.py:628: ConvergenceWarning: Objective did not converge. You might want to increase the number of iterations, check the scale of the features or consider increasing regularisation. Duality gap: 3.641e+06, tolerance: 8.060e+04\n",
      "  model = cd_fast.enet_coordinate_descent(\n",
      "/common/sghoshstat/ywu39393/DKL/lib/python3.9/site-packages/sklearn/linear_model/_coordinate_descent.py:628: ConvergenceWarning: Objective did not converge. You might want to increase the number of iterations, check the scale of the features or consider increasing regularisation. Duality gap: 1.555e+08, tolerance: 9.216e+04\n",
      "  model = cd_fast.enet_coordinate_descent(\n",
      "/common/sghoshstat/ywu39393/DKL/lib/python3.9/site-packages/sklearn/linear_model/_coordinate_descent.py:628: ConvergenceWarning: Objective did not converge. You might want to increase the number of iterations, check the scale of the features or consider increasing regularisation. Duality gap: 8.027e+07, tolerance: 9.216e+04\n",
      "  model = cd_fast.enet_coordinate_descent(\n",
      "/common/sghoshstat/ywu39393/DKL/lib/python3.9/site-packages/sklearn/linear_model/_coordinate_descent.py:628: ConvergenceWarning: Objective did not converge. You might want to increase the number of iterations, check the scale of the features or consider increasing regularisation. Duality gap: 3.499e+07, tolerance: 9.216e+04\n",
      "  model = cd_fast.enet_coordinate_descent(\n",
      "/common/sghoshstat/ywu39393/DKL/lib/python3.9/site-packages/sklearn/linear_model/_coordinate_descent.py:628: ConvergenceWarning: Objective did not converge. You might want to increase the number of iterations, check the scale of the features or consider increasing regularisation. Duality gap: 1.278e+07, tolerance: 9.216e+04\n",
      "  model = cd_fast.enet_coordinate_descent(\n",
      "/common/sghoshstat/ywu39393/DKL/lib/python3.9/site-packages/sklearn/linear_model/_coordinate_descent.py:628: ConvergenceWarning: Objective did not converge. You might want to increase the number of iterations, check the scale of the features or consider increasing regularisation. Duality gap: 4.209e+06, tolerance: 9.216e+04\n",
      "  model = cd_fast.enet_coordinate_descent(\n",
      "/common/sghoshstat/ywu39393/DKL/lib/python3.9/site-packages/sklearn/linear_model/_coordinate_descent.py:628: ConvergenceWarning: Objective did not converge. You might want to increase the number of iterations, check the scale of the features or consider increasing regularisation. Duality gap: 1.299e+08, tolerance: 8.435e+04\n",
      "  model = cd_fast.enet_coordinate_descent(\n",
      "/common/sghoshstat/ywu39393/DKL/lib/python3.9/site-packages/sklearn/linear_model/_coordinate_descent.py:628: ConvergenceWarning: Objective did not converge. You might want to increase the number of iterations, check the scale of the features or consider increasing regularisation. Duality gap: 7.367e+07, tolerance: 8.435e+04\n",
      "  model = cd_fast.enet_coordinate_descent(\n",
      "/common/sghoshstat/ywu39393/DKL/lib/python3.9/site-packages/sklearn/linear_model/_coordinate_descent.py:628: ConvergenceWarning: Objective did not converge. You might want to increase the number of iterations, check the scale of the features or consider increasing regularisation. Duality gap: 3.194e+07, tolerance: 8.435e+04\n",
      "  model = cd_fast.enet_coordinate_descent(\n",
      "/common/sghoshstat/ywu39393/DKL/lib/python3.9/site-packages/sklearn/linear_model/_coordinate_descent.py:628: ConvergenceWarning: Objective did not converge. You might want to increase the number of iterations, check the scale of the features or consider increasing regularisation. Duality gap: 1.169e+07, tolerance: 8.435e+04\n",
      "  model = cd_fast.enet_coordinate_descent(\n",
      "/common/sghoshstat/ywu39393/DKL/lib/python3.9/site-packages/sklearn/linear_model/_coordinate_descent.py:628: ConvergenceWarning: Objective did not converge. You might want to increase the number of iterations, check the scale of the features or consider increasing regularisation. Duality gap: 3.828e+06, tolerance: 8.435e+04\n",
      "  model = cd_fast.enet_coordinate_descent(\n",
      "/common/sghoshstat/ywu39393/DKL/lib/python3.9/site-packages/sklearn/linear_model/_coordinate_descent.py:628: ConvergenceWarning: Objective did not converge. You might want to increase the number of iterations, check the scale of the features or consider increasing regularisation. Duality gap: 7.111e+07, tolerance: 8.095e+04\n",
      "  model = cd_fast.enet_coordinate_descent(\n",
      "/common/sghoshstat/ywu39393/DKL/lib/python3.9/site-packages/sklearn/linear_model/_coordinate_descent.py:628: ConvergenceWarning: Objective did not converge. You might want to increase the number of iterations, check the scale of the features or consider increasing regularisation. Duality gap: 3.494e+07, tolerance: 8.095e+04\n",
      "  model = cd_fast.enet_coordinate_descent(\n",
      "/common/sghoshstat/ywu39393/DKL/lib/python3.9/site-packages/sklearn/linear_model/_coordinate_descent.py:628: ConvergenceWarning: Objective did not converge. You might want to increase the number of iterations, check the scale of the features or consider increasing regularisation. Duality gap: 1.114e+07, tolerance: 8.095e+04\n",
      "  model = cd_fast.enet_coordinate_descent(\n",
      "/common/sghoshstat/ywu39393/DKL/lib/python3.9/site-packages/sklearn/linear_model/_coordinate_descent.py:628: ConvergenceWarning: Objective did not converge. You might want to increase the number of iterations, check the scale of the features or consider increasing regularisation. Duality gap: 4.685e+06, tolerance: 8.095e+04\n",
      "  model = cd_fast.enet_coordinate_descent(\n",
      "/common/sghoshstat/ywu39393/DKL/lib/python3.9/site-packages/sklearn/linear_model/_coordinate_descent.py:628: ConvergenceWarning: Objective did not converge. You might want to increase the number of iterations, check the scale of the features or consider increasing regularisation. Duality gap: 1.333e+06, tolerance: 8.095e+04\n",
      "  model = cd_fast.enet_coordinate_descent(\n",
      "/common/sghoshstat/ywu39393/DKL/lib/python3.9/site-packages/sklearn/linear_model/_coordinate_descent.py:628: ConvergenceWarning: Objective did not converge. You might want to increase the number of iterations, check the scale of the features or consider increasing regularisation. Duality gap: 6.387e+07, tolerance: 8.743e+04\n",
      "  model = cd_fast.enet_coordinate_descent(\n",
      "/common/sghoshstat/ywu39393/DKL/lib/python3.9/site-packages/sklearn/linear_model/_coordinate_descent.py:628: ConvergenceWarning: Objective did not converge. You might want to increase the number of iterations, check the scale of the features or consider increasing regularisation. Duality gap: 3.053e+07, tolerance: 8.743e+04\n",
      "  model = cd_fast.enet_coordinate_descent(\n",
      "/common/sghoshstat/ywu39393/DKL/lib/python3.9/site-packages/sklearn/linear_model/_coordinate_descent.py:628: ConvergenceWarning: Objective did not converge. You might want to increase the number of iterations, check the scale of the features or consider increasing regularisation. Duality gap: 1.495e+07, tolerance: 8.743e+04\n",
      "  model = cd_fast.enet_coordinate_descent(\n",
      "/common/sghoshstat/ywu39393/DKL/lib/python3.9/site-packages/sklearn/linear_model/_coordinate_descent.py:628: ConvergenceWarning: Objective did not converge. You might want to increase the number of iterations, check the scale of the features or consider increasing regularisation. Duality gap: 4.564e+06, tolerance: 8.743e+04\n",
      "  model = cd_fast.enet_coordinate_descent(\n",
      "/common/sghoshstat/ywu39393/DKL/lib/python3.9/site-packages/sklearn/linear_model/_coordinate_descent.py:628: ConvergenceWarning: Objective did not converge. You might want to increase the number of iterations, check the scale of the features or consider increasing regularisation. Duality gap: 1.423e+06, tolerance: 8.743e+04\n",
      "  model = cd_fast.enet_coordinate_descent(\n",
      "/common/sghoshstat/ywu39393/DKL/lib/python3.9/site-packages/sklearn/linear_model/_coordinate_descent.py:628: ConvergenceWarning: Objective did not converge. You might want to increase the number of iterations, check the scale of the features or consider increasing regularisation. Duality gap: 4.829e+07, tolerance: 8.060e+04\n",
      "  model = cd_fast.enet_coordinate_descent(\n",
      "/common/sghoshstat/ywu39393/DKL/lib/python3.9/site-packages/sklearn/linear_model/_coordinate_descent.py:628: ConvergenceWarning: Objective did not converge. You might want to increase the number of iterations, check the scale of the features or consider increasing regularisation. Duality gap: 2.914e+07, tolerance: 8.060e+04\n",
      "  model = cd_fast.enet_coordinate_descent(\n",
      "/common/sghoshstat/ywu39393/DKL/lib/python3.9/site-packages/sklearn/linear_model/_coordinate_descent.py:628: ConvergenceWarning: Objective did not converge. You might want to increase the number of iterations, check the scale of the features or consider increasing regularisation. Duality gap: 1.079e+07, tolerance: 8.060e+04\n",
      "  model = cd_fast.enet_coordinate_descent(\n",
      "/common/sghoshstat/ywu39393/DKL/lib/python3.9/site-packages/sklearn/linear_model/_coordinate_descent.py:628: ConvergenceWarning: Objective did not converge. You might want to increase the number of iterations, check the scale of the features or consider increasing regularisation. Duality gap: 4.135e+06, tolerance: 8.060e+04\n",
      "  model = cd_fast.enet_coordinate_descent(\n",
      "/common/sghoshstat/ywu39393/DKL/lib/python3.9/site-packages/sklearn/linear_model/_coordinate_descent.py:628: ConvergenceWarning: Objective did not converge. You might want to increase the number of iterations, check the scale of the features or consider increasing regularisation. Duality gap: 1.360e+06, tolerance: 8.060e+04\n",
      "  model = cd_fast.enet_coordinate_descent(\n",
      "/common/sghoshstat/ywu39393/DKL/lib/python3.9/site-packages/sklearn/linear_model/_coordinate_descent.py:628: ConvergenceWarning: Objective did not converge. You might want to increase the number of iterations, check the scale of the features or consider increasing regularisation. Duality gap: 8.155e+07, tolerance: 9.216e+04\n",
      "  model = cd_fast.enet_coordinate_descent(\n",
      "/common/sghoshstat/ywu39393/DKL/lib/python3.9/site-packages/sklearn/linear_model/_coordinate_descent.py:628: ConvergenceWarning: Objective did not converge. You might want to increase the number of iterations, check the scale of the features or consider increasing regularisation. Duality gap: 2.980e+07, tolerance: 9.216e+04\n",
      "  model = cd_fast.enet_coordinate_descent(\n",
      "/common/sghoshstat/ywu39393/DKL/lib/python3.9/site-packages/sklearn/linear_model/_coordinate_descent.py:628: ConvergenceWarning: Objective did not converge. You might want to increase the number of iterations, check the scale of the features or consider increasing regularisation. Duality gap: 1.619e+07, tolerance: 9.216e+04\n",
      "  model = cd_fast.enet_coordinate_descent(\n",
      "/common/sghoshstat/ywu39393/DKL/lib/python3.9/site-packages/sklearn/linear_model/_coordinate_descent.py:628: ConvergenceWarning: Objective did not converge. You might want to increase the number of iterations, check the scale of the features or consider increasing regularisation. Duality gap: 4.781e+06, tolerance: 9.216e+04\n",
      "  model = cd_fast.enet_coordinate_descent(\n",
      "/common/sghoshstat/ywu39393/DKL/lib/python3.9/site-packages/sklearn/linear_model/_coordinate_descent.py:628: ConvergenceWarning: Objective did not converge. You might want to increase the number of iterations, check the scale of the features or consider increasing regularisation. Duality gap: 1.472e+06, tolerance: 9.216e+04\n",
      "  model = cd_fast.enet_coordinate_descent(\n",
      "/common/sghoshstat/ywu39393/DKL/lib/python3.9/site-packages/sklearn/linear_model/_coordinate_descent.py:628: ConvergenceWarning: Objective did not converge. You might want to increase the number of iterations, check the scale of the features or consider increasing regularisation. Duality gap: 5.490e+07, tolerance: 8.435e+04\n",
      "  model = cd_fast.enet_coordinate_descent(\n",
      "/common/sghoshstat/ywu39393/DKL/lib/python3.9/site-packages/sklearn/linear_model/_coordinate_descent.py:628: ConvergenceWarning: Objective did not converge. You might want to increase the number of iterations, check the scale of the features or consider increasing regularisation. Duality gap: 3.218e+07, tolerance: 8.435e+04\n",
      "  model = cd_fast.enet_coordinate_descent(\n",
      "/common/sghoshstat/ywu39393/DKL/lib/python3.9/site-packages/sklearn/linear_model/_coordinate_descent.py:628: ConvergenceWarning: Objective did not converge. You might want to increase the number of iterations, check the scale of the features or consider increasing regularisation. Duality gap: 1.310e+07, tolerance: 8.435e+04\n",
      "  model = cd_fast.enet_coordinate_descent(\n",
      "/common/sghoshstat/ywu39393/DKL/lib/python3.9/site-packages/sklearn/linear_model/_coordinate_descent.py:628: ConvergenceWarning: Objective did not converge. You might want to increase the number of iterations, check the scale of the features or consider increasing regularisation. Duality gap: 4.956e+06, tolerance: 8.435e+04\n",
      "  model = cd_fast.enet_coordinate_descent(\n",
      "/common/sghoshstat/ywu39393/DKL/lib/python3.9/site-packages/sklearn/linear_model/_coordinate_descent.py:628: ConvergenceWarning: Objective did not converge. You might want to increase the number of iterations, check the scale of the features or consider increasing regularisation. Duality gap: 1.405e+06, tolerance: 8.435e+04\n",
      "  model = cd_fast.enet_coordinate_descent(\n",
      "/common/sghoshstat/ywu39393/DKL/lib/python3.9/site-packages/sklearn/linear_model/_coordinate_descent.py:628: ConvergenceWarning: Objective did not converge. You might want to increase the number of iterations, check the scale of the features or consider increasing regularisation. Duality gap: 4.040e+07, tolerance: 8.095e+04\n",
      "  model = cd_fast.enet_coordinate_descent(\n",
      "/common/sghoshstat/ywu39393/DKL/lib/python3.9/site-packages/sklearn/linear_model/_coordinate_descent.py:628: ConvergenceWarning: Objective did not converge. You might want to increase the number of iterations, check the scale of the features or consider increasing regularisation. Duality gap: 1.784e+07, tolerance: 8.095e+04\n",
      "  model = cd_fast.enet_coordinate_descent(\n",
      "/common/sghoshstat/ywu39393/DKL/lib/python3.9/site-packages/sklearn/linear_model/_coordinate_descent.py:628: ConvergenceWarning: Objective did not converge. You might want to increase the number of iterations, check the scale of the features or consider increasing regularisation. Duality gap: 8.276e+06, tolerance: 8.095e+04\n",
      "  model = cd_fast.enet_coordinate_descent(\n",
      "/common/sghoshstat/ywu39393/DKL/lib/python3.9/site-packages/sklearn/linear_model/_coordinate_descent.py:628: ConvergenceWarning: Objective did not converge. You might want to increase the number of iterations, check the scale of the features or consider increasing regularisation. Duality gap: 2.379e+06, tolerance: 8.095e+04\n",
      "  model = cd_fast.enet_coordinate_descent(\n",
      "/common/sghoshstat/ywu39393/DKL/lib/python3.9/site-packages/sklearn/linear_model/_coordinate_descent.py:628: ConvergenceWarning: Objective did not converge. You might want to increase the number of iterations, check the scale of the features or consider increasing regularisation. Duality gap: 7.870e+05, tolerance: 8.095e+04\n",
      "  model = cd_fast.enet_coordinate_descent(\n",
      "/common/sghoshstat/ywu39393/DKL/lib/python3.9/site-packages/sklearn/linear_model/_coordinate_descent.py:628: ConvergenceWarning: Objective did not converge. You might want to increase the number of iterations, check the scale of the features or consider increasing regularisation. Duality gap: 4.253e+07, tolerance: 8.743e+04\n",
      "  model = cd_fast.enet_coordinate_descent(\n",
      "/common/sghoshstat/ywu39393/DKL/lib/python3.9/site-packages/sklearn/linear_model/_coordinate_descent.py:628: ConvergenceWarning: Objective did not converge. You might want to increase the number of iterations, check the scale of the features or consider increasing regularisation. Duality gap: 2.000e+07, tolerance: 8.743e+04\n",
      "  model = cd_fast.enet_coordinate_descent(\n",
      "/common/sghoshstat/ywu39393/DKL/lib/python3.9/site-packages/sklearn/linear_model/_coordinate_descent.py:628: ConvergenceWarning: Objective did not converge. You might want to increase the number of iterations, check the scale of the features or consider increasing regularisation. Duality gap: 7.115e+06, tolerance: 8.743e+04\n",
      "  model = cd_fast.enet_coordinate_descent(\n",
      "/common/sghoshstat/ywu39393/DKL/lib/python3.9/site-packages/sklearn/linear_model/_coordinate_descent.py:628: ConvergenceWarning: Objective did not converge. You might want to increase the number of iterations, check the scale of the features or consider increasing regularisation. Duality gap: 2.022e+06, tolerance: 8.743e+04\n",
      "  model = cd_fast.enet_coordinate_descent(\n",
      "/common/sghoshstat/ywu39393/DKL/lib/python3.9/site-packages/sklearn/linear_model/_coordinate_descent.py:628: ConvergenceWarning: Objective did not converge. You might want to increase the number of iterations, check the scale of the features or consider increasing regularisation. Duality gap: 6.430e+05, tolerance: 8.743e+04\n",
      "  model = cd_fast.enet_coordinate_descent(\n",
      "/common/sghoshstat/ywu39393/DKL/lib/python3.9/site-packages/sklearn/linear_model/_coordinate_descent.py:628: ConvergenceWarning: Objective did not converge. You might want to increase the number of iterations, check the scale of the features or consider increasing regularisation. Duality gap: 3.589e+07, tolerance: 8.060e+04\n",
      "  model = cd_fast.enet_coordinate_descent(\n",
      "/common/sghoshstat/ywu39393/DKL/lib/python3.9/site-packages/sklearn/linear_model/_coordinate_descent.py:628: ConvergenceWarning: Objective did not converge. You might want to increase the number of iterations, check the scale of the features or consider increasing regularisation. Duality gap: 1.548e+07, tolerance: 8.060e+04\n",
      "  model = cd_fast.enet_coordinate_descent(\n",
      "/common/sghoshstat/ywu39393/DKL/lib/python3.9/site-packages/sklearn/linear_model/_coordinate_descent.py:628: ConvergenceWarning: Objective did not converge. You might want to increase the number of iterations, check the scale of the features or consider increasing regularisation. Duality gap: 6.233e+06, tolerance: 8.060e+04\n",
      "  model = cd_fast.enet_coordinate_descent(\n",
      "/common/sghoshstat/ywu39393/DKL/lib/python3.9/site-packages/sklearn/linear_model/_coordinate_descent.py:628: ConvergenceWarning: Objective did not converge. You might want to increase the number of iterations, check the scale of the features or consider increasing regularisation. Duality gap: 1.716e+06, tolerance: 8.060e+04\n",
      "  model = cd_fast.enet_coordinate_descent(\n",
      "/common/sghoshstat/ywu39393/DKL/lib/python3.9/site-packages/sklearn/linear_model/_coordinate_descent.py:628: ConvergenceWarning: Objective did not converge. You might want to increase the number of iterations, check the scale of the features or consider increasing regularisation. Duality gap: 5.051e+05, tolerance: 8.060e+04\n",
      "  model = cd_fast.enet_coordinate_descent(\n",
      "/common/sghoshstat/ywu39393/DKL/lib/python3.9/site-packages/sklearn/linear_model/_coordinate_descent.py:628: ConvergenceWarning: Objective did not converge. You might want to increase the number of iterations, check the scale of the features or consider increasing regularisation. Duality gap: 4.372e+07, tolerance: 9.216e+04\n",
      "  model = cd_fast.enet_coordinate_descent(\n",
      "/common/sghoshstat/ywu39393/DKL/lib/python3.9/site-packages/sklearn/linear_model/_coordinate_descent.py:628: ConvergenceWarning: Objective did not converge. You might want to increase the number of iterations, check the scale of the features or consider increasing regularisation. Duality gap: 2.268e+07, tolerance: 9.216e+04\n",
      "  model = cd_fast.enet_coordinate_descent(\n",
      "/common/sghoshstat/ywu39393/DKL/lib/python3.9/site-packages/sklearn/linear_model/_coordinate_descent.py:628: ConvergenceWarning: Objective did not converge. You might want to increase the number of iterations, check the scale of the features or consider increasing regularisation. Duality gap: 9.262e+06, tolerance: 9.216e+04\n",
      "  model = cd_fast.enet_coordinate_descent(\n",
      "/common/sghoshstat/ywu39393/DKL/lib/python3.9/site-packages/sklearn/linear_model/_coordinate_descent.py:628: ConvergenceWarning: Objective did not converge. You might want to increase the number of iterations, check the scale of the features or consider increasing regularisation. Duality gap: 2.846e+06, tolerance: 9.216e+04\n",
      "  model = cd_fast.enet_coordinate_descent(\n",
      "/common/sghoshstat/ywu39393/DKL/lib/python3.9/site-packages/sklearn/linear_model/_coordinate_descent.py:628: ConvergenceWarning: Objective did not converge. You might want to increase the number of iterations, check the scale of the features or consider increasing regularisation. Duality gap: 8.824e+05, tolerance: 9.216e+04\n",
      "  model = cd_fast.enet_coordinate_descent(\n",
      "/common/sghoshstat/ywu39393/DKL/lib/python3.9/site-packages/sklearn/linear_model/_coordinate_descent.py:628: ConvergenceWarning: Objective did not converge. You might want to increase the number of iterations, check the scale of the features or consider increasing regularisation. Duality gap: 3.237e+07, tolerance: 8.435e+04\n",
      "  model = cd_fast.enet_coordinate_descent(\n",
      "/common/sghoshstat/ywu39393/DKL/lib/python3.9/site-packages/sklearn/linear_model/_coordinate_descent.py:628: ConvergenceWarning: Objective did not converge. You might want to increase the number of iterations, check the scale of the features or consider increasing regularisation. Duality gap: 1.796e+07, tolerance: 8.435e+04\n",
      "  model = cd_fast.enet_coordinate_descent(\n",
      "/common/sghoshstat/ywu39393/DKL/lib/python3.9/site-packages/sklearn/linear_model/_coordinate_descent.py:628: ConvergenceWarning: Objective did not converge. You might want to increase the number of iterations, check the scale of the features or consider increasing regularisation. Duality gap: 6.604e+06, tolerance: 8.435e+04\n",
      "  model = cd_fast.enet_coordinate_descent(\n",
      "/common/sghoshstat/ywu39393/DKL/lib/python3.9/site-packages/sklearn/linear_model/_coordinate_descent.py:628: ConvergenceWarning: Objective did not converge. You might want to increase the number of iterations, check the scale of the features or consider increasing regularisation. Duality gap: 2.170e+06, tolerance: 8.435e+04\n",
      "  model = cd_fast.enet_coordinate_descent(\n",
      "/common/sghoshstat/ywu39393/DKL/lib/python3.9/site-packages/sklearn/linear_model/_coordinate_descent.py:628: ConvergenceWarning: Objective did not converge. You might want to increase the number of iterations, check the scale of the features or consider increasing regularisation. Duality gap: 6.583e+05, tolerance: 8.435e+04\n",
      "  model = cd_fast.enet_coordinate_descent(\n",
      "/common/sghoshstat/ywu39393/DKL/lib/python3.9/site-packages/sklearn/linear_model/_coordinate_descent.py:628: ConvergenceWarning: Objective did not converge. You might want to increase the number of iterations, check the scale of the features or consider increasing regularisation. Duality gap: 1.836e+07, tolerance: 8.095e+04\n",
      "  model = cd_fast.enet_coordinate_descent(\n",
      "/common/sghoshstat/ywu39393/DKL/lib/python3.9/site-packages/sklearn/linear_model/_coordinate_descent.py:628: ConvergenceWarning: Objective did not converge. You might want to increase the number of iterations, check the scale of the features or consider increasing regularisation. Duality gap: 4.763e+06, tolerance: 8.095e+04\n",
      "  model = cd_fast.enet_coordinate_descent(\n",
      "/common/sghoshstat/ywu39393/DKL/lib/python3.9/site-packages/sklearn/linear_model/_coordinate_descent.py:628: ConvergenceWarning: Objective did not converge. You might want to increase the number of iterations, check the scale of the features or consider increasing regularisation. Duality gap: 1.951e+06, tolerance: 8.095e+04\n",
      "  model = cd_fast.enet_coordinate_descent(\n",
      "/common/sghoshstat/ywu39393/DKL/lib/python3.9/site-packages/sklearn/linear_model/_coordinate_descent.py:628: ConvergenceWarning: Objective did not converge. You might want to increase the number of iterations, check the scale of the features or consider increasing regularisation. Duality gap: 7.344e+05, tolerance: 8.095e+04\n",
      "  model = cd_fast.enet_coordinate_descent(\n",
      "/common/sghoshstat/ywu39393/DKL/lib/python3.9/site-packages/sklearn/linear_model/_coordinate_descent.py:628: ConvergenceWarning: Objective did not converge. You might want to increase the number of iterations, check the scale of the features or consider increasing regularisation. Duality gap: 2.393e+05, tolerance: 8.095e+04\n",
      "  model = cd_fast.enet_coordinate_descent(\n",
      "/common/sghoshstat/ywu39393/DKL/lib/python3.9/site-packages/sklearn/linear_model/_coordinate_descent.py:628: ConvergenceWarning: Objective did not converge. You might want to increase the number of iterations, check the scale of the features or consider increasing regularisation. Duality gap: 2.073e+07, tolerance: 8.743e+04\n",
      "  model = cd_fast.enet_coordinate_descent(\n",
      "/common/sghoshstat/ywu39393/DKL/lib/python3.9/site-packages/sklearn/linear_model/_coordinate_descent.py:628: ConvergenceWarning: Objective did not converge. You might want to increase the number of iterations, check the scale of the features or consider increasing regularisation. Duality gap: 5.651e+06, tolerance: 8.743e+04\n",
      "  model = cd_fast.enet_coordinate_descent(\n",
      "/common/sghoshstat/ywu39393/DKL/lib/python3.9/site-packages/sklearn/linear_model/_coordinate_descent.py:628: ConvergenceWarning: Objective did not converge. You might want to increase the number of iterations, check the scale of the features or consider increasing regularisation. Duality gap: 1.690e+06, tolerance: 8.743e+04\n",
      "  model = cd_fast.enet_coordinate_descent(\n",
      "/common/sghoshstat/ywu39393/DKL/lib/python3.9/site-packages/sklearn/linear_model/_coordinate_descent.py:628: ConvergenceWarning: Objective did not converge. You might want to increase the number of iterations, check the scale of the features or consider increasing regularisation. Duality gap: 5.289e+05, tolerance: 8.743e+04\n",
      "  model = cd_fast.enet_coordinate_descent(\n",
      "/common/sghoshstat/ywu39393/DKL/lib/python3.9/site-packages/sklearn/linear_model/_coordinate_descent.py:628: ConvergenceWarning: Objective did not converge. You might want to increase the number of iterations, check the scale of the features or consider increasing regularisation. Duality gap: 1.665e+05, tolerance: 8.743e+04\n",
      "  model = cd_fast.enet_coordinate_descent(\n",
      "/common/sghoshstat/ywu39393/DKL/lib/python3.9/site-packages/sklearn/linear_model/_coordinate_descent.py:628: ConvergenceWarning: Objective did not converge. You might want to increase the number of iterations, check the scale of the features or consider increasing regularisation. Duality gap: 1.698e+07, tolerance: 8.060e+04\n",
      "  model = cd_fast.enet_coordinate_descent(\n",
      "/common/sghoshstat/ywu39393/DKL/lib/python3.9/site-packages/sklearn/linear_model/_coordinate_descent.py:628: ConvergenceWarning: Objective did not converge. You might want to increase the number of iterations, check the scale of the features or consider increasing regularisation. Duality gap: 6.110e+06, tolerance: 8.060e+04\n",
      "  model = cd_fast.enet_coordinate_descent(\n",
      "/common/sghoshstat/ywu39393/DKL/lib/python3.9/site-packages/sklearn/linear_model/_coordinate_descent.py:628: ConvergenceWarning: Objective did not converge. You might want to increase the number of iterations, check the scale of the features or consider increasing regularisation. Duality gap: 1.880e+06, tolerance: 8.060e+04\n",
      "  model = cd_fast.enet_coordinate_descent(\n",
      "/common/sghoshstat/ywu39393/DKL/lib/python3.9/site-packages/sklearn/linear_model/_coordinate_descent.py:628: ConvergenceWarning: Objective did not converge. You might want to increase the number of iterations, check the scale of the features or consider increasing regularisation. Duality gap: 5.979e+05, tolerance: 8.060e+04\n",
      "  model = cd_fast.enet_coordinate_descent(\n",
      "/common/sghoshstat/ywu39393/DKL/lib/python3.9/site-packages/sklearn/linear_model/_coordinate_descent.py:628: ConvergenceWarning: Objective did not converge. You might want to increase the number of iterations, check the scale of the features or consider increasing regularisation. Duality gap: 1.813e+05, tolerance: 8.060e+04\n",
      "  model = cd_fast.enet_coordinate_descent(\n",
      "/common/sghoshstat/ywu39393/DKL/lib/python3.9/site-packages/sklearn/linear_model/_coordinate_descent.py:628: ConvergenceWarning: Objective did not converge. You might want to increase the number of iterations, check the scale of the features or consider increasing regularisation. Duality gap: 2.241e+07, tolerance: 9.216e+04\n",
      "  model = cd_fast.enet_coordinate_descent(\n",
      "/common/sghoshstat/ywu39393/DKL/lib/python3.9/site-packages/sklearn/linear_model/_coordinate_descent.py:628: ConvergenceWarning: Objective did not converge. You might want to increase the number of iterations, check the scale of the features or consider increasing regularisation. Duality gap: 5.965e+06, tolerance: 9.216e+04\n",
      "  model = cd_fast.enet_coordinate_descent(\n",
      "/common/sghoshstat/ywu39393/DKL/lib/python3.9/site-packages/sklearn/linear_model/_coordinate_descent.py:628: ConvergenceWarning: Objective did not converge. You might want to increase the number of iterations, check the scale of the features or consider increasing regularisation. Duality gap: 2.226e+06, tolerance: 9.216e+04\n",
      "  model = cd_fast.enet_coordinate_descent(\n",
      "/common/sghoshstat/ywu39393/DKL/lib/python3.9/site-packages/sklearn/linear_model/_coordinate_descent.py:628: ConvergenceWarning: Objective did not converge. You might want to increase the number of iterations, check the scale of the features or consider increasing regularisation. Duality gap: 6.673e+05, tolerance: 9.216e+04\n",
      "  model = cd_fast.enet_coordinate_descent(\n",
      "/common/sghoshstat/ywu39393/DKL/lib/python3.9/site-packages/sklearn/linear_model/_coordinate_descent.py:628: ConvergenceWarning: Objective did not converge. You might want to increase the number of iterations, check the scale of the features or consider increasing regularisation. Duality gap: 2.062e+05, tolerance: 9.216e+04\n",
      "  model = cd_fast.enet_coordinate_descent(\n",
      "/common/sghoshstat/ywu39393/DKL/lib/python3.9/site-packages/sklearn/linear_model/_coordinate_descent.py:628: ConvergenceWarning: Objective did not converge. You might want to increase the number of iterations, check the scale of the features or consider increasing regularisation. Duality gap: 2.161e+07, tolerance: 8.435e+04\n",
      "  model = cd_fast.enet_coordinate_descent(\n",
      "/common/sghoshstat/ywu39393/DKL/lib/python3.9/site-packages/sklearn/linear_model/_coordinate_descent.py:628: ConvergenceWarning: Objective did not converge. You might want to increase the number of iterations, check the scale of the features or consider increasing regularisation. Duality gap: 6.255e+06, tolerance: 8.435e+04\n",
      "  model = cd_fast.enet_coordinate_descent(\n",
      "/common/sghoshstat/ywu39393/DKL/lib/python3.9/site-packages/sklearn/linear_model/_coordinate_descent.py:628: ConvergenceWarning: Objective did not converge. You might want to increase the number of iterations, check the scale of the features or consider increasing regularisation. Duality gap: 1.940e+06, tolerance: 8.435e+04\n",
      "  model = cd_fast.enet_coordinate_descent(\n",
      "/common/sghoshstat/ywu39393/DKL/lib/python3.9/site-packages/sklearn/linear_model/_coordinate_descent.py:628: ConvergenceWarning: Objective did not converge. You might want to increase the number of iterations, check the scale of the features or consider increasing regularisation. Duality gap: 5.473e+05, tolerance: 8.435e+04\n",
      "  model = cd_fast.enet_coordinate_descent(\n",
      "/common/sghoshstat/ywu39393/DKL/lib/python3.9/site-packages/sklearn/linear_model/_coordinate_descent.py:628: ConvergenceWarning: Objective did not converge. You might want to increase the number of iterations, check the scale of the features or consider increasing regularisation. Duality gap: 1.617e+05, tolerance: 8.435e+04\n",
      "  model = cd_fast.enet_coordinate_descent(\n",
      "/common/sghoshstat/ywu39393/DKL/lib/python3.9/site-packages/sklearn/linear_model/_coordinate_descent.py:628: ConvergenceWarning: Objective did not converge. You might want to increase the number of iterations, check the scale of the features or consider increasing regularisation. Duality gap: 3.904e+06, tolerance: 8.095e+04\n",
      "  model = cd_fast.enet_coordinate_descent(\n",
      "/common/sghoshstat/ywu39393/DKL/lib/python3.9/site-packages/sklearn/linear_model/_coordinate_descent.py:628: ConvergenceWarning: Objective did not converge. You might want to increase the number of iterations, check the scale of the features or consider increasing regularisation. Duality gap: 1.133e+06, tolerance: 8.095e+04\n",
      "  model = cd_fast.enet_coordinate_descent(\n",
      "/common/sghoshstat/ywu39393/DKL/lib/python3.9/site-packages/sklearn/linear_model/_coordinate_descent.py:628: ConvergenceWarning: Objective did not converge. You might want to increase the number of iterations, check the scale of the features or consider increasing regularisation. Duality gap: 3.829e+05, tolerance: 8.095e+04\n",
      "  model = cd_fast.enet_coordinate_descent(\n",
      "/common/sghoshstat/ywu39393/DKL/lib/python3.9/site-packages/sklearn/linear_model/_coordinate_descent.py:628: ConvergenceWarning: Objective did not converge. You might want to increase the number of iterations, check the scale of the features or consider increasing regularisation. Duality gap: 1.148e+05, tolerance: 8.095e+04\n",
      "  model = cd_fast.enet_coordinate_descent(\n",
      "/common/sghoshstat/ywu39393/DKL/lib/python3.9/site-packages/sklearn/linear_model/_coordinate_descent.py:628: ConvergenceWarning: Objective did not converge. You might want to increase the number of iterations, check the scale of the features or consider increasing regularisation. Duality gap: 4.889e+06, tolerance: 8.743e+04\n",
      "  model = cd_fast.enet_coordinate_descent(\n",
      "/common/sghoshstat/ywu39393/DKL/lib/python3.9/site-packages/sklearn/linear_model/_coordinate_descent.py:628: ConvergenceWarning: Objective did not converge. You might want to increase the number of iterations, check the scale of the features or consider increasing regularisation. Duality gap: 1.095e+06, tolerance: 8.743e+04\n",
      "  model = cd_fast.enet_coordinate_descent(\n",
      "/common/sghoshstat/ywu39393/DKL/lib/python3.9/site-packages/sklearn/linear_model/_coordinate_descent.py:628: ConvergenceWarning: Objective did not converge. You might want to increase the number of iterations, check the scale of the features or consider increasing regularisation. Duality gap: 3.285e+05, tolerance: 8.743e+04\n",
      "  model = cd_fast.enet_coordinate_descent(\n",
      "/common/sghoshstat/ywu39393/DKL/lib/python3.9/site-packages/sklearn/linear_model/_coordinate_descent.py:628: ConvergenceWarning: Objective did not converge. You might want to increase the number of iterations, check the scale of the features or consider increasing regularisation. Duality gap: 1.016e+05, tolerance: 8.743e+04\n",
      "  model = cd_fast.enet_coordinate_descent(\n",
      "/common/sghoshstat/ywu39393/DKL/lib/python3.9/site-packages/sklearn/linear_model/_coordinate_descent.py:628: ConvergenceWarning: Objective did not converge. You might want to increase the number of iterations, check the scale of the features or consider increasing regularisation. Duality gap: 4.434e+06, tolerance: 8.060e+04\n",
      "  model = cd_fast.enet_coordinate_descent(\n",
      "/common/sghoshstat/ywu39393/DKL/lib/python3.9/site-packages/sklearn/linear_model/_coordinate_descent.py:628: ConvergenceWarning: Objective did not converge. You might want to increase the number of iterations, check the scale of the features or consider increasing regularisation. Duality gap: 1.251e+06, tolerance: 8.060e+04\n",
      "  model = cd_fast.enet_coordinate_descent(\n",
      "/common/sghoshstat/ywu39393/DKL/lib/python3.9/site-packages/sklearn/linear_model/_coordinate_descent.py:628: ConvergenceWarning: Objective did not converge. You might want to increase the number of iterations, check the scale of the features or consider increasing regularisation. Duality gap: 3.733e+05, tolerance: 8.060e+04\n",
      "  model = cd_fast.enet_coordinate_descent(\n",
      "/common/sghoshstat/ywu39393/DKL/lib/python3.9/site-packages/sklearn/linear_model/_coordinate_descent.py:628: ConvergenceWarning: Objective did not converge. You might want to increase the number of iterations, check the scale of the features or consider increasing regularisation. Duality gap: 1.239e+05, tolerance: 8.060e+04\n",
      "  model = cd_fast.enet_coordinate_descent(\n",
      "/common/sghoshstat/ywu39393/DKL/lib/python3.9/site-packages/sklearn/linear_model/_coordinate_descent.py:628: ConvergenceWarning: Objective did not converge. You might want to increase the number of iterations, check the scale of the features or consider increasing regularisation. Duality gap: 5.007e+06, tolerance: 9.216e+04\n",
      "  model = cd_fast.enet_coordinate_descent(\n",
      "/common/sghoshstat/ywu39393/DKL/lib/python3.9/site-packages/sklearn/linear_model/_coordinate_descent.py:628: ConvergenceWarning: Objective did not converge. You might want to increase the number of iterations, check the scale of the features or consider increasing regularisation. Duality gap: 1.530e+06, tolerance: 9.216e+04\n",
      "  model = cd_fast.enet_coordinate_descent(\n",
      "/common/sghoshstat/ywu39393/DKL/lib/python3.9/site-packages/sklearn/linear_model/_coordinate_descent.py:628: ConvergenceWarning: Objective did not converge. You might want to increase the number of iterations, check the scale of the features or consider increasing regularisation. Duality gap: 4.784e+05, tolerance: 9.216e+04\n",
      "  model = cd_fast.enet_coordinate_descent(\n",
      "/common/sghoshstat/ywu39393/DKL/lib/python3.9/site-packages/sklearn/linear_model/_coordinate_descent.py:628: ConvergenceWarning: Objective did not converge. You might want to increase the number of iterations, check the scale of the features or consider increasing regularisation. Duality gap: 1.709e+05, tolerance: 9.216e+04\n",
      "  model = cd_fast.enet_coordinate_descent(\n",
      "/common/sghoshstat/ywu39393/DKL/lib/python3.9/site-packages/sklearn/linear_model/_coordinate_descent.py:628: ConvergenceWarning: Objective did not converge. You might want to increase the number of iterations, check the scale of the features or consider increasing regularisation. Duality gap: 3.223e+06, tolerance: 8.435e+04\n",
      "  model = cd_fast.enet_coordinate_descent(\n",
      "/common/sghoshstat/ywu39393/DKL/lib/python3.9/site-packages/sklearn/linear_model/_coordinate_descent.py:628: ConvergenceWarning: Objective did not converge. You might want to increase the number of iterations, check the scale of the features or consider increasing regularisation. Duality gap: 8.634e+05, tolerance: 8.435e+04\n",
      "  model = cd_fast.enet_coordinate_descent(\n",
      "/common/sghoshstat/ywu39393/DKL/lib/python3.9/site-packages/sklearn/linear_model/_coordinate_descent.py:628: ConvergenceWarning: Objective did not converge. You might want to increase the number of iterations, check the scale of the features or consider increasing regularisation. Duality gap: 3.488e+05, tolerance: 8.435e+04\n",
      "  model = cd_fast.enet_coordinate_descent(\n",
      "/common/sghoshstat/ywu39393/DKL/lib/python3.9/site-packages/sklearn/linear_model/_coordinate_descent.py:628: ConvergenceWarning: Objective did not converge. You might want to increase the number of iterations, check the scale of the features or consider increasing regularisation. Duality gap: 1.288e+05, tolerance: 8.435e+04\n",
      "  model = cd_fast.enet_coordinate_descent(\n",
      "/common/sghoshstat/ywu39393/DKL/lib/python3.9/site-packages/sklearn/linear_model/_coordinate_descent.py:628: ConvergenceWarning: Objective did not converge. You might want to increase the number of iterations, check the scale of the features or consider increasing regularisation. Duality gap: 2.031e+08, tolerance: 1.064e+05\n",
      "  model = cd_fast.enet_coordinate_descent(\n"
     ]
    },
    {
     "data": {
      "text/html": [
       "<style>#sk-container-id-1 {color: black;}#sk-container-id-1 pre{padding: 0;}#sk-container-id-1 div.sk-toggleable {background-color: white;}#sk-container-id-1 label.sk-toggleable__label {cursor: pointer;display: block;width: 100%;margin-bottom: 0;padding: 0.3em;box-sizing: border-box;text-align: center;}#sk-container-id-1 label.sk-toggleable__label-arrow:before {content: \"▸\";float: left;margin-right: 0.25em;color: #696969;}#sk-container-id-1 label.sk-toggleable__label-arrow:hover:before {color: black;}#sk-container-id-1 div.sk-estimator:hover label.sk-toggleable__label-arrow:before {color: black;}#sk-container-id-1 div.sk-toggleable__content {max-height: 0;max-width: 0;overflow: hidden;text-align: left;background-color: #f0f8ff;}#sk-container-id-1 div.sk-toggleable__content pre {margin: 0.2em;color: black;border-radius: 0.25em;background-color: #f0f8ff;}#sk-container-id-1 input.sk-toggleable__control:checked~div.sk-toggleable__content {max-height: 200px;max-width: 100%;overflow: auto;}#sk-container-id-1 input.sk-toggleable__control:checked~label.sk-toggleable__label-arrow:before {content: \"▾\";}#sk-container-id-1 div.sk-estimator input.sk-toggleable__control:checked~label.sk-toggleable__label {background-color: #d4ebff;}#sk-container-id-1 div.sk-label input.sk-toggleable__control:checked~label.sk-toggleable__label {background-color: #d4ebff;}#sk-container-id-1 input.sk-hidden--visually {border: 0;clip: rect(1px 1px 1px 1px);clip: rect(1px, 1px, 1px, 1px);height: 1px;margin: -1px;overflow: hidden;padding: 0;position: absolute;width: 1px;}#sk-container-id-1 div.sk-estimator {font-family: monospace;background-color: #f0f8ff;border: 1px dotted black;border-radius: 0.25em;box-sizing: border-box;margin-bottom: 0.5em;}#sk-container-id-1 div.sk-estimator:hover {background-color: #d4ebff;}#sk-container-id-1 div.sk-parallel-item::after {content: \"\";width: 100%;border-bottom: 1px solid gray;flex-grow: 1;}#sk-container-id-1 div.sk-label:hover label.sk-toggleable__label {background-color: #d4ebff;}#sk-container-id-1 div.sk-serial::before {content: \"\";position: absolute;border-left: 1px solid gray;box-sizing: border-box;top: 0;bottom: 0;left: 50%;z-index: 0;}#sk-container-id-1 div.sk-serial {display: flex;flex-direction: column;align-items: center;background-color: white;padding-right: 0.2em;padding-left: 0.2em;position: relative;}#sk-container-id-1 div.sk-item {position: relative;z-index: 1;}#sk-container-id-1 div.sk-parallel {display: flex;align-items: stretch;justify-content: center;background-color: white;position: relative;}#sk-container-id-1 div.sk-item::before, #sk-container-id-1 div.sk-parallel-item::before {content: \"\";position: absolute;border-left: 1px solid gray;box-sizing: border-box;top: 0;bottom: 0;left: 50%;z-index: -1;}#sk-container-id-1 div.sk-parallel-item {display: flex;flex-direction: column;z-index: 1;position: relative;background-color: white;}#sk-container-id-1 div.sk-parallel-item:first-child::after {align-self: flex-end;width: 50%;}#sk-container-id-1 div.sk-parallel-item:last-child::after {align-self: flex-start;width: 50%;}#sk-container-id-1 div.sk-parallel-item:only-child::after {width: 0;}#sk-container-id-1 div.sk-dashed-wrapped {border: 1px dashed gray;margin: 0 0.4em 0.5em 0.4em;box-sizing: border-box;padding-bottom: 0.4em;background-color: white;}#sk-container-id-1 div.sk-label label {font-family: monospace;font-weight: bold;display: inline-block;line-height: 1.2em;}#sk-container-id-1 div.sk-label-container {text-align: center;}#sk-container-id-1 div.sk-container {/* jupyter's `normalize.less` sets `[hidden] { display: none; }` but bootstrap.min.css set `[hidden] { display: none !important; }` so we also need the `!important` here to be able to override the default hidden behavior on the sphinx rendered scikit-learn.org. See: https://github.com/scikit-learn/scikit-learn/issues/21755 */display: inline-block !important;position: relative;}#sk-container-id-1 div.sk-text-repr-fallback {display: none;}</style><div id=\"sk-container-id-1\" class=\"sk-top-container\"><div class=\"sk-text-repr-fallback\"><pre>ElasticNetCV(alphas=array([0.01      , 0.03162278, 0.1       , 0.31622777, 1.        ]),\n",
       "             cv=5, l1_ratio=[0.1, 0.5, 0.7, 0.9, 1], random_state=42)</pre><b>In a Jupyter environment, please rerun this cell to show the HTML representation or trust the notebook. <br />On GitHub, the HTML representation is unable to render, please try loading this page with nbviewer.org.</b></div><div class=\"sk-container\" hidden><div class=\"sk-item\"><div class=\"sk-estimator sk-toggleable\"><input class=\"sk-toggleable__control sk-hidden--visually\" id=\"sk-estimator-id-1\" type=\"checkbox\" checked><label for=\"sk-estimator-id-1\" class=\"sk-toggleable__label sk-toggleable__label-arrow\">ElasticNetCV</label><div class=\"sk-toggleable__content\"><pre>ElasticNetCV(alphas=array([0.01      , 0.03162278, 0.1       , 0.31622777, 1.        ]),\n",
       "             cv=5, l1_ratio=[0.1, 0.5, 0.7, 0.9, 1], random_state=42)</pre></div></div></div></div></div>"
      ],
      "text/plain": [
       "ElasticNetCV(alphas=array([0.01      , 0.03162278, 0.1       , 0.31622777, 1.        ]),\n",
       "             cv=5, l1_ratio=[0.1, 0.5, 0.7, 0.9, 1], random_state=42)"
      ]
     },
     "execution_count": 12,
     "metadata": {},
     "output_type": "execute_result"
    }
   ],
   "source": [
    "model = ElasticNetCV(\n",
    "    l1_ratio=[.1, .5, .7, .9, 1],  # Range of l1_ratio values to try\n",
    "    alphas=np.logspace(-2, 0, 5),  # Range of alpha values to try\n",
    "    cv=5,  # Number of cross-validation folds  \n",
    "    random_state=42\n",
    ")\n",
    "model.fit(X_train, y_train)"
   ]
  },
  {
   "cell_type": "code",
   "execution_count": 14,
   "id": "69932adb-0dea-448d-b7b2-8e8aa65f84f1",
   "metadata": {},
   "outputs": [
    {
     "name": "stdout",
     "output_type": "stream",
     "text": [
      "Optimal alpha: 1.0\n",
      "Optimal l1_ratio: 0.1\n"
     ]
    }
   ],
   "source": [
    "# Optimal alpha and l1_ratio\n",
    "optimal_alpha = model.alpha_\n",
    "optimal_l1_ratio = model.l1_ratio_\n",
    "\n",
    "print(f\"Optimal alpha: {optimal_alpha}\")\n",
    "print(f\"Optimal l1_ratio: {optimal_l1_ratio}\")\n",
    "\n"
   ]
  },
  {
   "cell_type": "code",
   "execution_count": 15,
   "id": "bd062644-4282-41f4-89f8-03f2c90c2090",
   "metadata": {},
   "outputs": [
    {
     "name": "stdout",
     "output_type": "stream",
     "text": [
      "Selected features: Index(['patient_id', 'age', 'race_white', 'stage_i', 'stage_ii', 'hsa.let.7d',\n",
      "       'hsa.let.7f.1', 'hsa.let.7f.2', 'hsa.let.7g', 'hsa.mir.100',\n",
      "       ...\n",
      "       'ENSG00000271503', 'ENSG00000272047', 'ENSG00000272886',\n",
      "       'ENSG00000273542', 'ENSG00000273841', 'ENSG00000275302',\n",
      "       'ENSG00000275713', 'ENSG00000275832', 'ENSG00000276231',\n",
      "       'ENSG00000276966'],\n",
      "      dtype='object', length=3182)\n"
     ]
    }
   ],
   "source": [
    "\n",
    "\n",
    "# Model coefficients\n",
    "coef = model.coef_\n",
    "\n",
    "# Identify features with non-zero coefficients\n",
    "important_features = np.where(coef != 0)[0]\n",
    "\n",
    "# Get the names of the important features\n",
    "feature_names = data.drop(columns=['OS', 'OS.time']).columns\n",
    "selected_features = feature_names[important_features]\n",
    "print(f\"Selected features: {selected_features}\")\n",
    "\n",
    "# # Transform the dataset to include only the selected features\n",
    "# X_reduced = X[:, important_features]\n",
    "\n",
    "# # Create a new DataFrame with the selected features\n",
    "# reduced_data = pd.DataFrame(X_reduced, columns=selected_features)\n",
    "# print(reduced_data.head())\n"
   ]
  },
  {
   "cell_type": "markdown",
   "id": "f103fcd0-d45b-41a8-9b11-91f67a866c8e",
   "metadata": {},
   "source": [
    "## Using fixed alpha and l1 ratio"
   ]
  },
  {
   "cell_type": "code",
   "execution_count": 20,
   "id": "09120615-f32d-4528-8d53-f2b80901c0bd",
   "metadata": {},
   "outputs": [
    {
     "name": "stderr",
     "output_type": "stream",
     "text": [
      "/common/sghoshstat/ywu39393/DKL/lib/python3.9/site-packages/sklearn/linear_model/_coordinate_descent.py:628: ConvergenceWarning: Objective did not converge. You might want to increase the number of iterations, check the scale of the features or consider increasing regularisation. Duality gap: 8.904e+07, tolerance: 1.064e+05\n",
      "  model = cd_fast.enet_coordinate_descent(\n"
     ]
    },
    {
     "data": {
      "text/html": [
       "<style>#sk-container-id-1 {color: black;}#sk-container-id-1 pre{padding: 0;}#sk-container-id-1 div.sk-toggleable {background-color: white;}#sk-container-id-1 label.sk-toggleable__label {cursor: pointer;display: block;width: 100%;margin-bottom: 0;padding: 0.3em;box-sizing: border-box;text-align: center;}#sk-container-id-1 label.sk-toggleable__label-arrow:before {content: \"▸\";float: left;margin-right: 0.25em;color: #696969;}#sk-container-id-1 label.sk-toggleable__label-arrow:hover:before {color: black;}#sk-container-id-1 div.sk-estimator:hover label.sk-toggleable__label-arrow:before {color: black;}#sk-container-id-1 div.sk-toggleable__content {max-height: 0;max-width: 0;overflow: hidden;text-align: left;background-color: #f0f8ff;}#sk-container-id-1 div.sk-toggleable__content pre {margin: 0.2em;color: black;border-radius: 0.25em;background-color: #f0f8ff;}#sk-container-id-1 input.sk-toggleable__control:checked~div.sk-toggleable__content {max-height: 200px;max-width: 100%;overflow: auto;}#sk-container-id-1 input.sk-toggleable__control:checked~label.sk-toggleable__label-arrow:before {content: \"▾\";}#sk-container-id-1 div.sk-estimator input.sk-toggleable__control:checked~label.sk-toggleable__label {background-color: #d4ebff;}#sk-container-id-1 div.sk-label input.sk-toggleable__control:checked~label.sk-toggleable__label {background-color: #d4ebff;}#sk-container-id-1 input.sk-hidden--visually {border: 0;clip: rect(1px 1px 1px 1px);clip: rect(1px, 1px, 1px, 1px);height: 1px;margin: -1px;overflow: hidden;padding: 0;position: absolute;width: 1px;}#sk-container-id-1 div.sk-estimator {font-family: monospace;background-color: #f0f8ff;border: 1px dotted black;border-radius: 0.25em;box-sizing: border-box;margin-bottom: 0.5em;}#sk-container-id-1 div.sk-estimator:hover {background-color: #d4ebff;}#sk-container-id-1 div.sk-parallel-item::after {content: \"\";width: 100%;border-bottom: 1px solid gray;flex-grow: 1;}#sk-container-id-1 div.sk-label:hover label.sk-toggleable__label {background-color: #d4ebff;}#sk-container-id-1 div.sk-serial::before {content: \"\";position: absolute;border-left: 1px solid gray;box-sizing: border-box;top: 0;bottom: 0;left: 50%;z-index: 0;}#sk-container-id-1 div.sk-serial {display: flex;flex-direction: column;align-items: center;background-color: white;padding-right: 0.2em;padding-left: 0.2em;position: relative;}#sk-container-id-1 div.sk-item {position: relative;z-index: 1;}#sk-container-id-1 div.sk-parallel {display: flex;align-items: stretch;justify-content: center;background-color: white;position: relative;}#sk-container-id-1 div.sk-item::before, #sk-container-id-1 div.sk-parallel-item::before {content: \"\";position: absolute;border-left: 1px solid gray;box-sizing: border-box;top: 0;bottom: 0;left: 50%;z-index: -1;}#sk-container-id-1 div.sk-parallel-item {display: flex;flex-direction: column;z-index: 1;position: relative;background-color: white;}#sk-container-id-1 div.sk-parallel-item:first-child::after {align-self: flex-end;width: 50%;}#sk-container-id-1 div.sk-parallel-item:last-child::after {align-self: flex-start;width: 50%;}#sk-container-id-1 div.sk-parallel-item:only-child::after {width: 0;}#sk-container-id-1 div.sk-dashed-wrapped {border: 1px dashed gray;margin: 0 0.4em 0.5em 0.4em;box-sizing: border-box;padding-bottom: 0.4em;background-color: white;}#sk-container-id-1 div.sk-label label {font-family: monospace;font-weight: bold;display: inline-block;line-height: 1.2em;}#sk-container-id-1 div.sk-label-container {text-align: center;}#sk-container-id-1 div.sk-container {/* jupyter's `normalize.less` sets `[hidden] { display: none; }` but bootstrap.min.css set `[hidden] { display: none !important; }` so we also need the `!important` here to be able to override the default hidden behavior on the sphinx rendered scikit-learn.org. See: https://github.com/scikit-learn/scikit-learn/issues/21755 */display: inline-block !important;position: relative;}#sk-container-id-1 div.sk-text-repr-fallback {display: none;}</style><div id=\"sk-container-id-1\" class=\"sk-top-container\"><div class=\"sk-text-repr-fallback\"><pre>ElasticNet()</pre><b>In a Jupyter environment, please rerun this cell to show the HTML representation or trust the notebook. <br />On GitHub, the HTML representation is unable to render, please try loading this page with nbviewer.org.</b></div><div class=\"sk-container\" hidden><div class=\"sk-item\"><div class=\"sk-estimator sk-toggleable\"><input class=\"sk-toggleable__control sk-hidden--visually\" id=\"sk-estimator-id-1\" type=\"checkbox\" checked><label for=\"sk-estimator-id-1\" class=\"sk-toggleable__label sk-toggleable__label-arrow\">ElasticNet</label><div class=\"sk-toggleable__content\"><pre>ElasticNet()</pre></div></div></div></div></div>"
      ],
      "text/plain": [
       "ElasticNet()"
      ]
     },
     "execution_count": 20,
     "metadata": {},
     "output_type": "execute_result"
    }
   ],
   "source": [
    "model = ElasticNet(alpha=1.0, l1_ratio=0.5)  # Adjust alpha and l1_ratio as needed\n",
    "model.fit(X_train, y_train)"
   ]
  },
  {
   "cell_type": "code",
   "execution_count": 21,
   "id": "b1250305-926c-49ab-b7f8-49ee2afc054e",
   "metadata": {},
   "outputs": [
    {
     "data": {
      "text/plain": [
       "array([ -4.90816285,  -6.07298976,  -6.64032365, ..., -42.72655467,\n",
       "         2.54392723,   1.49050729])"
      ]
     },
     "execution_count": 21,
     "metadata": {},
     "output_type": "execute_result"
    }
   ],
   "source": [
    "coef = model.coef_\n",
    "coef"
   ]
  },
  {
   "cell_type": "code",
   "execution_count": 22,
   "id": "d52283a5-9328-4d9a-9f4c-0b271c3b6a41",
   "metadata": {},
   "outputs": [
    {
     "data": {
      "text/plain": [
       "array([   0,    1,    2, ..., 3212, 3213, 3214])"
      ]
     },
     "execution_count": 22,
     "metadata": {},
     "output_type": "execute_result"
    }
   ],
   "source": [
    "important_features = np.where(coef != 0)[0]\n",
    "important_features"
   ]
  },
  {
   "cell_type": "code",
   "execution_count": 26,
   "id": "c47de092-1e14-4acc-92e9-62c94811f28d",
   "metadata": {},
   "outputs": [
    {
     "data": {
      "text/plain": [
       "(2985,)"
      ]
     },
     "execution_count": 26,
     "metadata": {},
     "output_type": "execute_result"
    }
   ],
   "source": [
    "feature_names = X.columns\n",
    "selected_features = feature_names[important_features]\n",
    "selected_features.shape\n"
   ]
  }
 ],
 "metadata": {
  "kernelspec": {
   "display_name": "VAE",
   "language": "python",
   "name": "vae"
  },
  "language_info": {
   "codemirror_mode": {
    "name": "ipython",
    "version": 3
   },
   "file_extension": ".py",
   "mimetype": "text/x-python",
   "name": "python",
   "nbconvert_exporter": "python",
   "pygments_lexer": "ipython3",
   "version": "3.12.0"
  }
 },
 "nbformat": 4,
 "nbformat_minor": 5
}
