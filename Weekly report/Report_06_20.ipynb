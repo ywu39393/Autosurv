{
 "cells": [
  {
   "cell_type": "markdown",
   "metadata": {},
   "source": [
    "# Weekly Report"
   ]
  },
  {
   "cell_type": "markdown",
   "metadata": {},
   "source": [
    "Yifan Wu"
   ]
  },
  {
   "cell_type": "markdown",
   "metadata": {},
   "source": [
    "Finished task:    \n",
    "\n",
    "\n",
    "1. Reproduce the AUTOSurv on Magellan.   \n",
    "2. Figure out how to get the importance scores for pathways, where we need the pathway name and it's orders.\n",
    "3. Complete the gene-wise log rank \\& cox regression model for variable selection and how to connnect it to LFSurv and DeepshapLFSurv.\n",
    "    * For AutoSurv, Optimal training C-index: 0.6987, optimal validation C-index: 0.7841.Testing phase: training C-index: 0.7761, testing C-index: 0.7262. \n",
    "    * For cox+LFSurv, Optimal training C-index: 0.712, optimal validation C-index: 0.7973.Testing phase: training C-index: 0.7563, testing C-index: 0.6893.\n",
    "4. Check the running time for each part of the AutoSurv model, with CUDA: VAE(8-10 hours), LFSurv(0.5-1 h).\n",
    "\n"
   ]
  },
  {
   "cell_type": "markdown",
   "metadata": {},
   "source": [
    "Issues:    \n",
    "\n",
    "\n",
    "1. Still waiting for tech help on how to run the python script on local space instead of cloud home.   \n",
    "  "
   ]
  }
 ],
 "metadata": {
  "language_info": {
   "name": "python"
  }
 },
 "nbformat": 4,
 "nbformat_minor": 2
}
