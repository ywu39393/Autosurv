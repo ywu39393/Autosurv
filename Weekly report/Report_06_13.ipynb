{
 "cells": [
  {
   "cell_type": "markdown",
   "metadata": {},
   "source": [
    "# Weekly Report"
   ]
  },
  {
   "cell_type": "markdown",
   "metadata": {},
   "source": [
    "Yifan Wu"
   ]
  },
  {
   "cell_type": "markdown",
   "metadata": {},
   "source": [
    "Finished task:    \n",
    "\n",
    "\n",
    "1. Reproduce the AUTOSurv on HCC.   \n",
    "2. Write down the format of each input dataset on AUTOSurv, detail see folder ``data description``.    \n",
    "3. Finish the code for using gene-wise log rank \\& cox regression to do variable selection. Also for elastic net, detail see folder ``autostat``.    "
   ]
  },
  {
   "cell_type": "markdown",
   "metadata": {},
   "source": [
    "Issues:    \n",
    "\n",
    "\n",
    "1. Still waiting for tech help on magellan envs install.    \n",
    "2. For cox regression, how to determine the final remaining variable amount, 32? 16? Same as deep learning structure?   \n",
    "3. For elastic net regression, the remaining variable is still over 2000 also, lot's of variable had colinearity, maybe that's the reason.   \n",
    "4. Maybe we can use PCA to peform dimension reduction?    \n",
    "  "
   ]
  }
 ],
 "metadata": {
  "language_info": {
   "name": "python"
  }
 },
 "nbformat": 4,
 "nbformat_minor": 2
}
