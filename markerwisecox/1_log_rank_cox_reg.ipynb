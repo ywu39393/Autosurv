{
 "cells": [
  {
   "cell_type": "code",
   "execution_count": 2,
   "id": "25a97b1b-c760-490f-8201-42f3fc921cc6",
   "metadata": {},
   "outputs": [],
   "source": [
    "import os \n",
    "import pandas as pd\n",
    "from lifelines.statistics import logrank_test\n",
    "from lifelines import CoxPHFitter\n",
    "\n",
    "os.chdir('/cloud-home/U1039935/Autosurv/autostat')"
   ]
  },
  {
   "cell_type": "code",
   "execution_count": 3,
   "id": "199a91e4-27ec-4b7a-b092-b69269c5a7a0",
   "metadata": {},
   "outputs": [
    {
     "data": {
      "text/plain": [
       "(1058, 3222)"
      ]
     },
     "execution_count": 3,
     "metadata": {},
     "output_type": "execute_result"
    }
   ],
   "source": [
    "data_t = pd.read_csv('train_test_split/minmax_normalized/data_train_minmax_overall.csv')\n",
    "data_test = pd.read_csv('train_test_split/minmax_normalized/data_test_minmax_overall.csv')\n",
    "data = pd.concat([data_t, data_test], ignore_index=True)\n",
    "data.shape"
   ]
  },
  {
   "cell_type": "code",
   "execution_count": 4,
   "id": "10b9eb3a-bda2-4c81-a0e5-83472e9c9437",
   "metadata": {},
   "outputs": [],
   "source": [
    "X = data.iloc[:,7:]\n",
    "# # Rename columns in X\n",
    "# X.columns = range(1, len(X.columns)+1)\n",
    "y = data.iloc[:,1:3]"
   ]
  },
  {
   "cell_type": "code",
   "execution_count": 5,
   "id": "b5f24895-8675-4233-83f6-ee4df70d7f2c",
   "metadata": {},
   "outputs": [],
   "source": [
    "# Assuming X_train and y_train are your training data\n",
    "logrank_p_values = {}\n",
    "for gene in X.columns:\n",
    "    p_value = logrank_test(X[gene], y['OS.time'], y['OS']).p_value\n",
    "    logrank_p_values[gene] = p_value\n",
    "\n"
   ]
  },
  {
   "cell_type": "code",
   "execution_count": 7,
   "id": "3cc3ca3c-ac2e-4d17-967b-9b51652fe79f",
   "metadata": {},
   "outputs": [
    {
     "data": {
      "text/plain": [
       "['ENSG00000169764',\n",
       " 'ENSG00000115380',\n",
       " 'ENSG00000168216',\n",
       " 'ENSG00000131080',\n",
       " 'ENSG00000154734',\n",
       " 'ENSG00000184005',\n",
       " 'ENSG00000154727',\n",
       " 'ENSG00000185010',\n",
       " 'ENSG00000069431',\n",
       " 'ENSG00000171056',\n",
       " 'ENSG00000137693',\n",
       " 'ENSG00000140285',\n",
       " 'ENSG00000138686',\n",
       " 'ENSG00000138640',\n",
       " 'ENSG00000005020',\n",
       " 'ENSG00000157557']"
      ]
     },
     "execution_count": 7,
     "metadata": {},
     "output_type": "execute_result"
    }
   ],
   "source": [
    "# Select the top N genes based on p-values\n",
    "selected_genes = [gene for gene, p_value in sorted(logrank_p_values.items(), key=lambda x: x[1])[:16]]\n",
    "selected_genes"
   ]
  },
  {
   "cell_type": "code",
   "execution_count": 10,
   "id": "b04826f8-ce48-4dba-896a-d32b4f3c59b2",
   "metadata": {},
   "outputs": [
    {
     "data": {
      "text/html": [
       "<div>\n",
       "<style scoped>\n",
       "    .dataframe tbody tr th:only-of-type {\n",
       "        vertical-align: middle;\n",
       "    }\n",
       "\n",
       "    .dataframe tbody tr th {\n",
       "        vertical-align: top;\n",
       "    }\n",
       "\n",
       "    .dataframe thead th {\n",
       "        text-align: right;\n",
       "    }\n",
       "</style>\n",
       "<table border=\"1\" class=\"dataframe\">\n",
       "  <thead>\n",
       "    <tr style=\"text-align: right;\">\n",
       "      <th></th>\n",
       "      <th>OS</th>\n",
       "      <th>OS.time</th>\n",
       "      <th>ENSG00000169764</th>\n",
       "      <th>ENSG00000115380</th>\n",
       "      <th>ENSG00000168216</th>\n",
       "      <th>ENSG00000131080</th>\n",
       "      <th>ENSG00000154734</th>\n",
       "      <th>ENSG00000184005</th>\n",
       "      <th>ENSG00000154727</th>\n",
       "      <th>ENSG00000185010</th>\n",
       "      <th>ENSG00000069431</th>\n",
       "      <th>ENSG00000171056</th>\n",
       "      <th>ENSG00000137693</th>\n",
       "      <th>ENSG00000140285</th>\n",
       "      <th>ENSG00000138686</th>\n",
       "      <th>ENSG00000138640</th>\n",
       "      <th>ENSG00000005020</th>\n",
       "      <th>ENSG00000157557</th>\n",
       "    </tr>\n",
       "  </thead>\n",
       "  <tbody>\n",
       "    <tr>\n",
       "      <th>0</th>\n",
       "      <td>0</td>\n",
       "      <td>4005</td>\n",
       "      <td>0.288660</td>\n",
       "      <td>0.251243</td>\n",
       "      <td>0.179178</td>\n",
       "      <td>0.163436</td>\n",
       "      <td>0.288381</td>\n",
       "      <td>0.080484</td>\n",
       "      <td>0.277206</td>\n",
       "      <td>0.151743</td>\n",
       "      <td>0.209378</td>\n",
       "      <td>0.201190</td>\n",
       "      <td>0.283928</td>\n",
       "      <td>0.151464</td>\n",
       "      <td>0.340786</td>\n",
       "      <td>0.471369</td>\n",
       "      <td>0.549853</td>\n",
       "      <td>0.442541</td>\n",
       "    </tr>\n",
       "    <tr>\n",
       "      <th>1</th>\n",
       "      <td>0</td>\n",
       "      <td>1474</td>\n",
       "      <td>0.231877</td>\n",
       "      <td>0.409544</td>\n",
       "      <td>0.455783</td>\n",
       "      <td>0.390398</td>\n",
       "      <td>0.254931</td>\n",
       "      <td>0.084961</td>\n",
       "      <td>0.284712</td>\n",
       "      <td>0.132663</td>\n",
       "      <td>0.197239</td>\n",
       "      <td>0.215591</td>\n",
       "      <td>0.319967</td>\n",
       "      <td>0.214973</td>\n",
       "      <td>0.321198</td>\n",
       "      <td>0.091039</td>\n",
       "      <td>0.445270</td>\n",
       "      <td>0.438185</td>\n",
       "    </tr>\n",
       "    <tr>\n",
       "      <th>2</th>\n",
       "      <td>0</td>\n",
       "      <td>1448</td>\n",
       "      <td>0.233115</td>\n",
       "      <td>0.493263</td>\n",
       "      <td>0.401942</td>\n",
       "      <td>0.233497</td>\n",
       "      <td>0.356321</td>\n",
       "      <td>0.139806</td>\n",
       "      <td>0.377283</td>\n",
       "      <td>0.169314</td>\n",
       "      <td>0.182895</td>\n",
       "      <td>0.256897</td>\n",
       "      <td>0.601204</td>\n",
       "      <td>0.316897</td>\n",
       "      <td>0.395795</td>\n",
       "      <td>0.131893</td>\n",
       "      <td>0.427862</td>\n",
       "      <td>0.524814</td>\n",
       "    </tr>\n",
       "    <tr>\n",
       "      <th>3</th>\n",
       "      <td>0</td>\n",
       "      <td>348</td>\n",
       "      <td>0.190794</td>\n",
       "      <td>0.442827</td>\n",
       "      <td>0.501240</td>\n",
       "      <td>0.414375</td>\n",
       "      <td>0.229168</td>\n",
       "      <td>0.109046</td>\n",
       "      <td>0.457959</td>\n",
       "      <td>0.176684</td>\n",
       "      <td>0.159296</td>\n",
       "      <td>0.187419</td>\n",
       "      <td>0.634947</td>\n",
       "      <td>0.244479</td>\n",
       "      <td>0.395400</td>\n",
       "      <td>0.184385</td>\n",
       "      <td>0.474244</td>\n",
       "      <td>0.425818</td>\n",
       "    </tr>\n",
       "    <tr>\n",
       "      <th>4</th>\n",
       "      <td>0</td>\n",
       "      <td>303</td>\n",
       "      <td>0.377800</td>\n",
       "      <td>0.379547</td>\n",
       "      <td>0.279856</td>\n",
       "      <td>0.270377</td>\n",
       "      <td>0.134867</td>\n",
       "      <td>0.011153</td>\n",
       "      <td>0.337339</td>\n",
       "      <td>0.009222</td>\n",
       "      <td>0.100231</td>\n",
       "      <td>0.072721</td>\n",
       "      <td>0.398579</td>\n",
       "      <td>0.011051</td>\n",
       "      <td>0.627937</td>\n",
       "      <td>0.401367</td>\n",
       "      <td>0.107638</td>\n",
       "      <td>0.554267</td>\n",
       "    </tr>\n",
       "  </tbody>\n",
       "</table>\n",
       "</div>"
      ],
      "text/plain": [
       "   OS  OS.time  ENSG00000169764  ENSG00000115380  ENSG00000168216  \\\n",
       "0   0     4005         0.288660         0.251243         0.179178   \n",
       "1   0     1474         0.231877         0.409544         0.455783   \n",
       "2   0     1448         0.233115         0.493263         0.401942   \n",
       "3   0      348         0.190794         0.442827         0.501240   \n",
       "4   0      303         0.377800         0.379547         0.279856   \n",
       "\n",
       "   ENSG00000131080  ENSG00000154734  ENSG00000184005  ENSG00000154727  \\\n",
       "0         0.163436         0.288381         0.080484         0.277206   \n",
       "1         0.390398         0.254931         0.084961         0.284712   \n",
       "2         0.233497         0.356321         0.139806         0.377283   \n",
       "3         0.414375         0.229168         0.109046         0.457959   \n",
       "4         0.270377         0.134867         0.011153         0.337339   \n",
       "\n",
       "   ENSG00000185010  ENSG00000069431  ENSG00000171056  ENSG00000137693  \\\n",
       "0         0.151743         0.209378         0.201190         0.283928   \n",
       "1         0.132663         0.197239         0.215591         0.319967   \n",
       "2         0.169314         0.182895         0.256897         0.601204   \n",
       "3         0.176684         0.159296         0.187419         0.634947   \n",
       "4         0.009222         0.100231         0.072721         0.398579   \n",
       "\n",
       "   ENSG00000140285  ENSG00000138686  ENSG00000138640  ENSG00000005020  \\\n",
       "0         0.151464         0.340786         0.471369         0.549853   \n",
       "1         0.214973         0.321198         0.091039         0.445270   \n",
       "2         0.316897         0.395795         0.131893         0.427862   \n",
       "3         0.244479         0.395400         0.184385         0.474244   \n",
       "4         0.011051         0.627937         0.401367         0.107638   \n",
       "\n",
       "   ENSG00000157557  \n",
       "0         0.442541  \n",
       "1         0.438185  \n",
       "2         0.524814  \n",
       "3         0.425818  \n",
       "4         0.554267  "
      ]
     },
     "execution_count": 10,
     "metadata": {},
     "output_type": "execute_result"
    }
   ],
   "source": [
    "newdata = pd.concat([y, data[selected_genes]], axis=1)\n",
    "newdata.head()"
   ]
  },
  {
   "cell_type": "code",
   "execution_count": 11,
   "id": "d6902395-fb97-4933-bb07-5938f7559b2a",
   "metadata": {},
   "outputs": [
    {
     "data": {
      "text/plain": [
       "(1058, 18)"
      ]
     },
     "execution_count": 11,
     "metadata": {},
     "output_type": "execute_result"
    }
   ],
   "source": [
    "newdata.shape"
   ]
  },
  {
   "cell_type": "code",
   "execution_count": 54,
   "id": "945f23a8-4147-4d1b-8dd4-19201e8c57ed",
   "metadata": {},
   "outputs": [
    {
     "data": {
      "text/plain": [
       "<lifelines.CoxPHFitter: fitted with 1058 total observations, 883 right-censored observations>"
      ]
     },
     "execution_count": 54,
     "metadata": {},
     "output_type": "execute_result"
    }
   ],
   "source": [
    "cph = CoxPHFitter()\n",
    "cph.fit(newdata, duration_col='OS.time', event_col='OS')"
   ]
  },
  {
   "cell_type": "code",
   "execution_count": 60,
   "id": "31cabeef-6810-4361-bdc3-8442bb2a0ed0",
   "metadata": {},
   "outputs": [
    {
     "name": "stdout",
     "output_type": "stream",
     "text": [
      "Concordance Index: 0.7385339885339886\n"
     ]
    }
   ],
   "source": [
    "c_index = cph.score(newdata, scoring_method=\"concordance_index\")\n",
    "print(f\"Concordance Index: {c_index}\")"
   ]
  },
  {
   "cell_type": "markdown",
   "id": "1667f3db-420a-4046-a6e4-a5ab9ea579d6",
   "metadata": {},
   "source": [
    "# How to determine N, similiar with the input dim on LFsurv?"
   ]
  }
 ],
 "metadata": {
  "kernelspec": {
   "display_name": "VAE",
   "language": "python",
   "name": "vae"
  },
  "language_info": {
   "codemirror_mode": {
    "name": "ipython",
    "version": 3
   },
   "file_extension": ".py",
   "mimetype": "text/x-python",
   "name": "python",
   "nbconvert_exporter": "python",
   "pygments_lexer": "ipython3",
   "version": "3.12.0"
  }
 },
 "nbformat": 4,
 "nbformat_minor": 5
}
