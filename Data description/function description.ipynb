{
 "cells": [
  {
   "cell_type": "markdown",
   "id": "e83b035a-01d5-4170-89fb-e227cd80ef56",
   "metadata": {},
   "source": [
    "# Load data\n",
    "order data based on os.time and extract all values and transfrom it to numpy or CUDA if appliable"
   ]
  },
  {
   "cell_type": "code",
   "execution_count": null,
   "id": "9cd52a8c-ab24-4ac2-96c5-15369d05ded4",
   "metadata": {},
   "outputs": [],
   "source": [
    "def sort_data(path):\n",
    "    data = pd.read_csv(path)\n",
    "    data.sort_values(\"OS.time\", ascending = False, inplace = True)\n",
    "    patient_id = data.loc[:, [\"patient_id\"]]\n",
    "    patient_id.index = range(0, patient_id.shape[0], 1)\n",
    "    x = data.drop([\"patient_id\", \"OS\", \"OS.time\", \"age\", \"race_white\", \"stage_i\", \"stage_ii\"], axis = 1).values\n",
    "    ytime = data.loc[:, [\"OS.time\"]].values\n",
    "    yevent = data.loc[:, [\"OS\"]].values\n",
    "    age = data.loc[:, [\"age\"]].values\n",
    "    stage_i = data.loc[:, [\"stage_i\"]].values\n",
    "    stage_ii = data.loc[:, [\"stage_ii\"]].values\n",
    "    race_white = data.loc[:, [\"race_white\"]].values\n",
    "    return(patient_id, x, ytime, yevent, age, stage_i, stage_ii, race_white)\n",
    "\n",
    "def load_data(path, dtype):\n",
    "    patient_id, x, ytime, yevent, age, stage_i, stage_ii, race_white = sort_data(path)\n",
    "    X = torch.from_numpy(x).type(dtype)\n",
    "    YTIME = torch.from_numpy(ytime).type(dtype)\n",
    "    YEVENT = torch.from_numpy(yevent).type(dtype)\n",
    "    AGE = torch.from_numpy(age).type(dtype)\n",
    "    STAGE_I = torch.from_numpy(stage_i).type(dtype)\n",
    "    STAGE_II = torch.from_numpy(stage_ii).type(dtype)\n",
    "    RACE_WHITE = torch.from_numpy(race_white).type(dtype)\n",
    "    if torch.cuda.is_available():\n",
    "        X = X.cuda()\n",
    "        YTIME = YTIME.cuda()\n",
    "        YEVENT = YEVENT.cuda()\n",
    "        AGE = AGE.cuda()\n",
    "        STAGE_I = STAGE_I.cuda()\n",
    "        STAGE_II = STAGE_II.cuda()\n",
    "        RACE_WHITE = RACE_WHITE.cuda()\n",
    "    return(patient_id, X, YTIME, YEVENT, AGE, STAGE_I, STAGE_II, RACE_WHITE)"
   ]
  },
  {
   "cell_type": "markdown",
   "id": "a6ffc32e-05a2-4959-b12b-75dc545ea7d6",
   "metadata": {},
   "source": [
    "# Explain how pathway data are used in the VAE model"
   ]
  },
  {
   "cell_type": "code",
   "execution_count": null,
   "id": "6be89cb0-767d-49a6-bda0-76975c08dc50",
   "metadata": {},
   "outputs": [],
   "source": [
    "        self.e_fc1.weight.data = self.e_fc1.weight.data.mul(self.pathway_mask)\n",
    "        level2_layer = self.relu(self.e_bn1(self.e_fc1(x1)))"
   ]
  },
  {
   "cell_type": "markdown",
   "id": "b1411e27-95ca-4a2e-af7f-abaafcf6d374",
   "metadata": {},
   "source": [
    "* **self.e_fc1.weight.data** accesses the weight tensor of this layer.\n",
    "* The operation **self.e_fc1.weight.data.mul(self.pathway_mask)** performs an element-wise multiplication of the weight tensor with the pathway mask. This essentially means that the weights of the neural network are being modulated or masked according to some predefined pathways."
   ]
  }
 ],
 "metadata": {
  "kernelspec": {
   "display_name": "Python 3 (ipykernel)",
   "language": "python",
   "name": "python3"
  },
  "language_info": {
   "codemirror_mode": {
    "name": "ipython",
    "version": 3
   },
   "file_extension": ".py",
   "mimetype": "text/x-python",
   "name": "python",
   "nbconvert_exporter": "python",
   "pygments_lexer": "ipython3",
   "version": "3.8.15"
  }
 },
 "nbformat": 4,
 "nbformat_minor": 5
}
