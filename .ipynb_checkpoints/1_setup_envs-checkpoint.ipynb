{
 "cells": [
  {
   "cell_type": "code",
   "execution_count": null,
   "id": "e96bba57-2782-4d73-a0b6-b14a12e25147",
   "metadata": {},
   "outputs": [],
   "source": [
    "# this will relocate to my work directory\n",
    "loc:  cd /cloud-home/U1039935"
   ]
  },
  {
   "cell_type": "markdown",
   "id": "6f32752c-7a6a-4e68-bef4-f295713cc19c",
   "metadata": {},
   "source": [
    "If conda envs does not exists, you can create a new one as follow"
   ]
  },
  {
   "cell_type": "code",
   "execution_count": null,
   "id": "a3c7992f-4337-4ed6-ab4f-abc2804fd0fc",
   "metadata": {},
   "outputs": [],
   "source": [
    "# Make sure conda is initialized correctly\n",
    "$ source /opt/py/conda/PyLib_Common/etc/profile.d/conda.sh\n",
    "\n",
    "# Create an empty environment (only python interpretor) \n",
    "$ conda create -y -n autosurv python==3.7\n",
    "\n",
    "#next we need to use this personal environment in jupyter GUI, run following code\n",
    "# Make sure to activate the personal environment\n",
    "$ conda activate autosurv\n",
    "\n",
    "# Install IPykernel package, which allows to integrate Jupyter with the specific conda environment\n",
    "pip install ipykernel\n",
    "\n",
    "# Install the kernel into environment\n",
    "python -m ipykernel install --name=autosurv --prefix /cloud-home/U1039935/.magellan/conda\n",
    "\n",
    "#Once this is done - JupyterLab will show your personal environment in the list of available notebooks"
   ]
  },
  {
   "cell_type": "code",
   "execution_count": null,
   "id": "27a3adb5-5f63-4aaa-aa55-9f602b94c4b8",
   "metadata": {},
   "outputs": [],
   "source": []
  }
 ],
 "metadata": {
  "kernelspec": {
   "display_name": "Python 3 (ipykernel)",
   "language": "python",
   "name": "python3"
  },
  "language_info": {
   "codemirror_mode": {
    "name": "ipython",
    "version": 3
   },
   "file_extension": ".py",
   "mimetype": "text/x-python",
   "name": "python",
   "nbconvert_exporter": "python",
   "pygments_lexer": "ipython3",
   "version": "3.9.18"
  }
 },
 "nbformat": 4,
 "nbformat_minor": 5
}
