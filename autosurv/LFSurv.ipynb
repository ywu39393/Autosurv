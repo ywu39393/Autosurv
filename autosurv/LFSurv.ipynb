{
 "cells": [
  {
   "cell_type": "code",
   "execution_count": 10,
   "id": "da1bacd5-8c9e-4ce8-9763-7034ac6dcafe",
   "metadata": {},
   "outputs": [],
   "source": [
    "import math\n",
    "import numpy as np\n",
    "import pandas as pd\n",
    "import torch\n",
    "import torch.nn as nn\n",
    "import torch.nn.functional as F\n",
    "import torch.nn.init as init\n",
    "import torch.optim as optim\n",
    "import time\n",
    "import lifelines\n",
    "from lifelines.utils import concordance_index\n",
    "from LFSurv import LFSurv\n",
    "from utils import sort_data, load_data, R_set, neg_par_log_likelihood, c_index, EarlyStopping\n",
    "from train_LFSurv import train_LFSurv\n",
    "\n",
    "dtype = torch.FloatTensor\n",
    "os.chdir('/cloud-home/U1039935/Autosurv/autosurv')"
   ]
  },
  {
   "cell_type": "code",
   "execution_count": 11,
   "id": "3bc12130-4c8b-4756-a9a3-43a887747f90",
   "metadata": {},
   "outputs": [],
   "source": [
    "# modify input_n based on optim model\n",
    "input_n = 16\n",
    "level_2_dim = [8, 16, 32]\n",
    "epoch_num = 500\n",
    "patience = 200\n",
    "Initial_Learning_Rate = [0.05, 0.01, 0.0075, 0.005, 0.0025]\n",
    "# Initial_Learning_Rate = [0.05, 0.0075, 0.0025]\n",
    "L2_Lambda = [0.001, 0.00075, 0.0005, 0.00025, 0.0001]\n",
    "# L2_Lambda = [0.001, 0.0005, 0.0001]\n",
    "Dropout_rate_1 = [0.1, 0.3, 0.5]\n",
    "Dropout_rate_2 = [0.1, 0.3, 0.5]\n",
    "\n",
    "best_epoch_num = 0\n",
    "\n",
    "patient_id_train, x_train, ytime_train, yevent_train, age_train, stage_i_train, stage_ii_train, race_white_train = load_data(\"tune_tr_z_2omics.csv\", dtype)\n",
    "patient_id_valid, x_valid, ytime_valid, yevent_valid, age_valid, stage_i_valid, stage_ii_valid, race_white_valid = load_data(\"tune_val_z_2omics.csv\", dtype)\n",
    "\n",
    "patient_id_train_overall, x_train_overall, ytime_train_overall, yevent_train_overall, age_train_overall, stage_i_train_overall, stage_ii_train_overall, race_white_train_overall = load_data(\"tr_z_2omics.csv\", dtype)\n",
    "patient_id_test_overall, x_test_overall, ytime_test_overall, yevent_test_overall, age_test_overall, stage_i_test_overall, stage_ii_test_overall, race_white_test_overall = load_data(\"tes_z_2omics.csv\", dtype)"
   ]
  },
  {
   "cell_type": "code",
   "execution_count": 14,
   "id": "ba6910db-8cbf-4e82-9fc3-a6f945765a79",
   "metadata": {},
   "outputs": [
    {
     "data": {
      "text/plain": [
       "torch.Size([669, 16])"
      ]
     },
     "execution_count": 14,
     "metadata": {},
     "output_type": "execute_result"
    }
   ],
   "source": [
    "x_train.shape"
   ]
  },
  {
   "cell_type": "code",
   "execution_count": 4,
   "id": "a0bf5db2-3218-4111-ba1c-76c576e5db9d",
   "metadata": {},
   "outputs": [],
   "source": [
    "import time"
   ]
  },
  {
   "cell_type": "code",
   "execution_count": null,
   "id": "f00cd5d1-01c9-4e55-bf6d-993be74dafb8",
   "metadata": {},
   "outputs": [],
   "source": [
    "start_time = time.time()\n",
    "opt_l2 = 0\n",
    "opt_lr = 0\n",
    "opt_dim = 0\n",
    "opt_dr1 = 0\n",
    "opt_dr2 = 0\n",
    "\n",
    "opt_cindex_va = float(0)\n",
    "opt_cindex_tr = float(0)\n",
    "for l2 in L2_Lambda:\n",
    "    for lr in Initial_Learning_Rate:\n",
    "        for dim in level_2_dim:\n",
    "            for dr1 in Dropout_rate_1:\n",
    "                for dr2 in Dropout_rate_2:\n",
    "                    _, _, cindex_train, cindex_valid, best_epoch_num_tune = train_LFSurv(x_train, age_train, stage_i_train, stage_ii_train, race_white_train, ytime_train, yevent_train,\n",
    "                                                                                         x_valid, age_valid, stage_i_valid, stage_ii_valid, race_white_valid, ytime_valid, yevent_valid,\n",
    "                                                                                         input_n, dim, dr1, dr2, lr, l2, epoch_num, patience, dtype,\n",
    "                                                                                         path = \"saved_models/sup_checkpoint_tune.pt\")\n",
    "                    \n",
    "                    if cindex_valid > opt_cindex_va:\n",
    "                        opt_l2 = l2\n",
    "                        opt_lr = lr\n",
    "                        opt_dim = dim\n",
    "                        opt_dr1 = dr1\n",
    "                        opt_dr2 = dr2\n",
    "                        opt_cindex_tr = cindex_train\n",
    "                        opt_cindex_va = cindex_valid\n",
    "                        best_epoch_num = best_epoch_num_tune\n",
    "                    print(\"L2: %s,\" %l2, \"LR: %s.\" %lr, \"dim: %s,\" %dim, \"dr1: %s,\" %dr1, \"dr2: %s.\" %dr2)\n",
    "                    print(\"Training C-index: %s,\" %cindex_train.round(4), \"validation C-index: %s.\" %cindex_valid.round(4))\n",
    "end_time = time.time()\n",
    "print(\"--- %s seconds ---\" % (end_time - start_time))"
   ]
  },
  {
   "cell_type": "code",
   "execution_count": 8,
   "id": "c72bfaed-50bc-4091-9a36-0d712f345712",
   "metadata": {},
   "outputs": [
    {
     "name": "stdout",
     "output_type": "stream",
     "text": [
      "--- 1544.6969549655914 seconds ---\n"
     ]
    }
   ],
   "source": [
    "print(\"--- %s seconds ---\" % (end_time - start_time))"
   ]
  },
  {
   "cell_type": "code",
   "execution_count": null,
   "id": "1fec71de-a716-47bf-9200-e5855bb9640e",
   "metadata": {},
   "outputs": [],
   "source": [
    "#25-30 mins"
   ]
  },
  {
   "cell_type": "code",
   "execution_count": 9,
   "id": "5569744b-f9de-4560-9571-f74143fc052e",
   "metadata": {},
   "outputs": [
    {
     "name": "stdout",
     "output_type": "stream",
     "text": [
      "EarlyStopping counter: 20 out of 200\n",
      "EarlyStopping counter: 40 out of 200\n",
      "Training C-index: 0.7694, validation C-index: 0.7022.\n",
      "EarlyStopping counter: 60 out of 200\n",
      "EarlyStopping counter: 80 out of 200\n",
      "EarlyStopping counter: 100 out of 200\n",
      "EarlyStopping counter: 120 out of 200\n",
      "EarlyStopping counter: 140 out of 200\n",
      "Training C-index: 0.7771, validation C-index: 0.7062.\n",
      "EarlyStopping counter: 160 out of 200\n",
      "EarlyStopping counter: 180 out of 200\n",
      "EarlyStopping counter: 200 out of 200\n",
      "Early stopping, number of epochs:  248\n",
      "Save model of Epoch 49\n",
      "Loading model, best epoch: 49.\n",
      "Final training C-index: 0.7761, final validation C-index: 0.7262.\n",
      "Total time elapse: 2.5.\n",
      "Optimal L2: 0.0001, optimal LR: 0.05, optimal dim: 8, optimal dr1: 0.5, optimal dr2: 0.3, best epoch number in tuning: 4.\n",
      "Optimal training C-index: 0.6987, optimal validation C-index: 0.7841.\n",
      "Testing phase: training C-index: 0.7761, testing C-index: 0.7262.\n"
     ]
    }
   ],
   "source": [
    "train_y_pred, test_y_pred, cindex_train, cindex_test, best_epoch_num_overall = train_LFSurv(x_train_overall, age_train_overall, stage_i_train_overall, stage_ii_train_overall, race_white_train_overall, ytime_train_overall, yevent_train_overall,\n",
    "                                                                                            x_test_overall, age_test_overall, stage_i_test_overall, stage_ii_test_overall, race_white_test_overall, ytime_test_overall, yevent_test_overall,\n",
    "                                                                                            input_n, opt_dim, opt_dr1, opt_dr2, opt_lr, opt_l2, epoch_num, patience, dtype,\n",
    "                                                                                            path = \"saved_models/sup_checkpoint_overall.pt\")\n",
    "print(\"Optimal L2: %s,\" %opt_l2, \"optimal LR: %s,\" %opt_lr, \"optimal dim: %s,\" %opt_dim, \"optimal dr1: %s,\" %opt_dr1, \"optimal dr2: %s,\" %opt_dr2, \"best epoch number in tuning: %s.\" %best_epoch_num)\n",
    "print(\"Optimal training C-index: %s,\" %opt_cindex_tr.round(4), \"optimal validation C-index: %s.\" %opt_cindex_va.round(4))\n",
    "print(\"Testing phase: training C-index: %s,\" %cindex_train.round(4), \"testing C-index: %s.\" %cindex_test.round(4))"
   ]
  }
 ],
 "metadata": {
  "kernelspec": {
   "display_name": "VAE",
   "language": "python",
   "name": "vae"
  },
  "language_info": {
   "codemirror_mode": {
    "name": "ipython",
    "version": 3
   },
   "file_extension": ".py",
   "mimetype": "text/x-python",
   "name": "python",
   "nbconvert_exporter": "python",
   "pygments_lexer": "ipython3",
   "version": "3.12.0"
  }
 },
 "nbformat": 4,
 "nbformat_minor": 5
}
