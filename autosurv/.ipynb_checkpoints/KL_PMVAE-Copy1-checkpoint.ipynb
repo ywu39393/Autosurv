{
 "cells": [
  {
   "cell_type": "code",
   "execution_count": 1,
   "id": "6546b319-4813-4a08-b407-4775b18da49f",
   "metadata": {},
   "outputs": [],
   "source": [
    "#!/usr/bin/env python\n",
    "# coding: utf-8\n",
    "\n",
    "# In[ ]:\n",
    "\n",
    "\n",
    "import math\n",
    "import numpy as np\n",
    "import pandas as pd\n",
    "import torch\n",
    "import torch.nn as nn\n",
    "import torch.nn.functional as F\n",
    "import torch.nn.init as init\n",
    "import torch.optim as optim\n",
    "from torch.autograd import Variable\n",
    "import time\n",
    "from KL_PMVAE import KL_PMVAE_2omics, KL_PMVAE_genes, KL_PMVAE_mirnas\n",
    "from utils import sort_data, load_data, load_pathway, bce_recon_loss, kl_divergence, get_match_id\n",
    "from train_KL_PMVAE import train_KL_PMVAE\n",
    "\n",
    "dtype = torch.FloatTensor\n",
    "\n",
    "\n",
    "# In[ ]:\n"
   ]
  },
  {
   "cell_type": "code",
   "execution_count": 2,
   "id": "03e0b699-7d37-499d-8294-bce6e46fbb6d",
   "metadata": {},
   "outputs": [],
   "source": [
    "import os\n",
    "\n",
    "os.chdir('/cloud-home/U1039935/Autosurv/autosurv')"
   ]
  },
  {
   "cell_type": "code",
   "execution_count": 3,
   "id": "511be863-9ef0-4ae7-829e-b031203ea9e2",
   "metadata": {},
   "outputs": [],
   "source": [
    "\"\"\"\n",
    "Example listed here is for TCGA-BRCA data. If using TCGA-OV data, please adjust the parameters/covariates accordingly\n",
    "\"\"\"\n",
    "\n",
    "input_n1 = 2699\n",
    "input_n2 = 516\n",
    "z_dim = [8, 16, 32, 64]\n",
    "EPOCH_NUM = [800, 1200, 1600, 2000, 2400]\n",
    "NUM_CYCLES = [2, 4, 5, 10]\n",
    "Initial_Learning_Rate = [0.1, 0.05, 0.005, 0.001]\n",
    "L2_Lambda = [0.1, 0.05, 0.005, 0.0005]\n",
    "CUTTING_RATIO = [0.3, 0.5, 0.7, 0.9]\n",
    "# EPOCH_NUM = [800, 1200, 1600]\n",
    "# NUM_CYCLES = [2, 4]\n",
    "# Initial_Learning_Rate = [0.1, 0.01]\n",
    "# L2_Lambda = [0.1]\n",
    "patient_id_train, x_train_gene, ytime_train, yevent_train, age_train, stage_i_train, stage_ii_train, race_white_train = load_data(\"processed_data_example/TCGA_BRCA/tune/minmax_normalized/data_train_gene_minmax_tune.csv\", dtype)\n",
    "patient_id_valid, x_valid_gene, ytime_valid, yevent_valid, age_valid, stage_i_valid, stage_ii_valid, race_white_valid = load_data(\"processed_data_example/TCGA_BRCA/tune/minmax_normalized/data_valid_gene_minmax_tune.csv\", dtype)\n",
    "pathway_mask_tune = load_pathway(\"processed_data_example/TCGA_BRCA/tune/minmax_normalized/pathway_mask.csv\", dtype)\n",
    "\n",
    "_, x_train_mirna, _, _, _, _, _, _ = load_data(\"processed_data_example/TCGA_BRCA/tune/minmax_normalized/data_train_mirna_minmax_tune.csv\", dtype)\n",
    "_, x_valid_mirna, _, _, _, _, _, _ = load_data(\"processed_data_example/TCGA_BRCA/tune/minmax_normalized/data_valid_mirna_minmax_tune.csv\", dtype)\n",
    "\n",
    "\n",
    "\n",
    "patient_id_train_overall, x_train_gene_overall, ytime_train_overall, yevent_train_overall, age_train_overall, stage_i_train_overall, stage_ii_train_overall, race_white_train_overall = load_data(\"processed_data_example/TCGA_BRCA/train_test_split/minmax_normalized/data_train_gene_minmax_overall.csv\", dtype)\n",
    "patient_id_test_overall, x_test_gene_overall, ytime_test_overall, yevent_test_overall, age_test_overall, stage_i_test_overall, stage_ii_test_overall, race_white_test_overall = load_data(\"processed_data_example/TCGA_BRCA/train_test_split/minmax_normalized/data_test_gene_minmax_overall.csv\", dtype)\n",
    "pathway_mask_test = load_pathway(\"processed_data_example/TCGA_BRCA/train_test_split/minmax_normalized/pathway_mask.csv\", dtype)\n",
    "\n",
    "_, x_train_mirna_overall, _, _, _, _, _, _ = load_data(\"processed_data_example/TCGA_BRCA/train_test_split/minmax_normalized/data_train_mirna_minmax_overall.csv\", dtype)\n",
    "_, x_test_mirna_overall, _, _, _, _, _, _ = load_data(\"processed_data_example/TCGA_BRCA/train_test_split/minmax_normalized/data_test_mirna_minmax_overall.csv\", dtype)\n"
   ]
  },
  {
   "cell_type": "markdown",
   "id": "dde2351f-e935-47c8-83c5-b0f3533939ef",
   "metadata": {
    "jp-MarkdownHeadingCollapsed": true,
    "tags": []
   },
   "source": [
    "## Explore data"
   ]
  },
  {
   "cell_type": "code",
   "execution_count": 26,
   "id": "abd72d2e-2372-44b1-8067-3cd558f40353",
   "metadata": {},
   "outputs": [
    {
     "data": {
      "text/plain": [
       "torch.Size([669, 516])"
      ]
     },
     "execution_count": 26,
     "metadata": {},
     "output_type": "execute_result"
    }
   ],
   "source": [
    "x_train_mirna.shape"
   ]
  },
  {
   "cell_type": "code",
   "execution_count": 27,
   "id": "831ae397-dfc8-4f0d-87e0-799c038fb33d",
   "metadata": {},
   "outputs": [
    {
     "data": {
      "text/plain": [
       "torch.Size([669, 2699])"
      ]
     },
     "execution_count": 27,
     "metadata": {},
     "output_type": "execute_result"
    }
   ],
   "source": [
    "x_train_gene.shape"
   ]
  },
  {
   "cell_type": "code",
   "execution_count": 28,
   "id": "23131c50-44ba-4a20-aa1f-0b0214c5d7ba",
   "metadata": {},
   "outputs": [
    {
     "data": {
      "text/plain": [
       "torch.Size([857, 2699])"
      ]
     },
     "execution_count": 28,
     "metadata": {},
     "output_type": "execute_result"
    }
   ],
   "source": [
    "x_train_gene_overall.shape"
   ]
  },
  {
   "cell_type": "code",
   "execution_count": 29,
   "id": "a722c525-ad0e-4c8e-afa9-22eac1888439",
   "metadata": {},
   "outputs": [
    {
     "data": {
      "text/plain": [
       "torch.Size([201, 2699])"
      ]
     },
     "execution_count": 29,
     "metadata": {},
     "output_type": "execute_result"
    }
   ],
   "source": [
    "x_test_gene_overall.shape"
   ]
  },
  {
   "cell_type": "code",
   "execution_count": 30,
   "id": "05ef8f98-baf7-4fcb-b54e-6e9e220cb621",
   "metadata": {},
   "outputs": [
    {
     "data": {
      "text/plain": [
       "torch.Size([581, 2699])"
      ]
     },
     "execution_count": 30,
     "metadata": {},
     "output_type": "execute_result"
    }
   ],
   "source": [
    "pathway_mask_test.shape"
   ]
  },
  {
   "cell_type": "code",
   "execution_count": 31,
   "id": "9ad123c8-3cf4-4ced-b1ea-95d368751ab0",
   "metadata": {},
   "outputs": [],
   "source": [
    "import pandas as pd\n",
    "\n",
    "df = pd.read_csv(\"processed_data_example/TCGA_BRCA/tune/minmax_normalized/pathway_mask.csv\")"
   ]
  },
  {
   "cell_type": "code",
   "execution_count": 32,
   "id": "a98a1b85-152f-48ca-bcca-7e34bd0b3597",
   "metadata": {},
   "outputs": [
    {
     "data": {
      "text/html": [
       "<div>\n",
       "<style scoped>\n",
       "    .dataframe tbody tr th:only-of-type {\n",
       "        vertical-align: middle;\n",
       "    }\n",
       "\n",
       "    .dataframe tbody tr th {\n",
       "        vertical-align: top;\n",
       "    }\n",
       "\n",
       "    .dataframe thead th {\n",
       "        text-align: right;\n",
       "    }\n",
       "</style>\n",
       "<table border=\"1\" class=\"dataframe\">\n",
       "  <thead>\n",
       "    <tr style=\"text-align: right;\">\n",
       "      <th></th>\n",
       "      <th>Unnamed: 0</th>\n",
       "      <th>R-HSA-1989781</th>\n",
       "      <th>R-HSA-418594</th>\n",
       "      <th>R-HSA-975298</th>\n",
       "      <th>R-HSA-418555</th>\n",
       "      <th>R-HSA-1442490</th>\n",
       "      <th>R-HSA-2565942</th>\n",
       "      <th>R-HSA-380259</th>\n",
       "      <th>R-HSA-380270</th>\n",
       "      <th>R-HSA-438066</th>\n",
       "      <th>...</th>\n",
       "      <th>R-HSA-373752</th>\n",
       "      <th>R-HSA-3000480</th>\n",
       "      <th>R-HSA-196299</th>\n",
       "      <th>R-HSA-3322077</th>\n",
       "      <th>R-HSA-1251985</th>\n",
       "      <th>R-HSA-5339716</th>\n",
       "      <th>R-HSA-5358747</th>\n",
       "      <th>R-HSA-5358749</th>\n",
       "      <th>R-HSA-5358751</th>\n",
       "      <th>R-HSA-5358752</th>\n",
       "    </tr>\n",
       "  </thead>\n",
       "  <tbody>\n",
       "    <tr>\n",
       "      <th>0</th>\n",
       "      <td>ENSG00000000938</td>\n",
       "      <td>0</td>\n",
       "      <td>0</td>\n",
       "      <td>0</td>\n",
       "      <td>0</td>\n",
       "      <td>0</td>\n",
       "      <td>0</td>\n",
       "      <td>0</td>\n",
       "      <td>0</td>\n",
       "      <td>0</td>\n",
       "      <td>...</td>\n",
       "      <td>0</td>\n",
       "      <td>0</td>\n",
       "      <td>0</td>\n",
       "      <td>0</td>\n",
       "      <td>0</td>\n",
       "      <td>0</td>\n",
       "      <td>0</td>\n",
       "      <td>0</td>\n",
       "      <td>0</td>\n",
       "      <td>0</td>\n",
       "    </tr>\n",
       "    <tr>\n",
       "      <th>1</th>\n",
       "      <td>ENSG00000000971</td>\n",
       "      <td>0</td>\n",
       "      <td>0</td>\n",
       "      <td>0</td>\n",
       "      <td>0</td>\n",
       "      <td>0</td>\n",
       "      <td>0</td>\n",
       "      <td>0</td>\n",
       "      <td>0</td>\n",
       "      <td>0</td>\n",
       "      <td>...</td>\n",
       "      <td>0</td>\n",
       "      <td>0</td>\n",
       "      <td>0</td>\n",
       "      <td>0</td>\n",
       "      <td>0</td>\n",
       "      <td>0</td>\n",
       "      <td>0</td>\n",
       "      <td>0</td>\n",
       "      <td>0</td>\n",
       "      <td>0</td>\n",
       "    </tr>\n",
       "    <tr>\n",
       "      <th>2</th>\n",
       "      <td>ENSG00000001461</td>\n",
       "      <td>0</td>\n",
       "      <td>0</td>\n",
       "      <td>0</td>\n",
       "      <td>0</td>\n",
       "      <td>0</td>\n",
       "      <td>0</td>\n",
       "      <td>0</td>\n",
       "      <td>0</td>\n",
       "      <td>0</td>\n",
       "      <td>...</td>\n",
       "      <td>0</td>\n",
       "      <td>0</td>\n",
       "      <td>0</td>\n",
       "      <td>0</td>\n",
       "      <td>0</td>\n",
       "      <td>0</td>\n",
       "      <td>0</td>\n",
       "      <td>0</td>\n",
       "      <td>0</td>\n",
       "      <td>0</td>\n",
       "    </tr>\n",
       "    <tr>\n",
       "      <th>3</th>\n",
       "      <td>ENSG00000001630</td>\n",
       "      <td>0</td>\n",
       "      <td>0</td>\n",
       "      <td>0</td>\n",
       "      <td>0</td>\n",
       "      <td>0</td>\n",
       "      <td>0</td>\n",
       "      <td>0</td>\n",
       "      <td>0</td>\n",
       "      <td>0</td>\n",
       "      <td>...</td>\n",
       "      <td>0</td>\n",
       "      <td>0</td>\n",
       "      <td>0</td>\n",
       "      <td>0</td>\n",
       "      <td>0</td>\n",
       "      <td>0</td>\n",
       "      <td>0</td>\n",
       "      <td>0</td>\n",
       "      <td>0</td>\n",
       "      <td>0</td>\n",
       "    </tr>\n",
       "    <tr>\n",
       "      <th>4</th>\n",
       "      <td>ENSG00000003989</td>\n",
       "      <td>0</td>\n",
       "      <td>0</td>\n",
       "      <td>0</td>\n",
       "      <td>0</td>\n",
       "      <td>0</td>\n",
       "      <td>0</td>\n",
       "      <td>0</td>\n",
       "      <td>0</td>\n",
       "      <td>0</td>\n",
       "      <td>...</td>\n",
       "      <td>0</td>\n",
       "      <td>0</td>\n",
       "      <td>0</td>\n",
       "      <td>0</td>\n",
       "      <td>0</td>\n",
       "      <td>0</td>\n",
       "      <td>0</td>\n",
       "      <td>0</td>\n",
       "      <td>0</td>\n",
       "      <td>0</td>\n",
       "    </tr>\n",
       "  </tbody>\n",
       "</table>\n",
       "<p>5 rows × 582 columns</p>\n",
       "</div>"
      ],
      "text/plain": [
       "        Unnamed: 0  R-HSA-1989781  R-HSA-418594  R-HSA-975298  R-HSA-418555  \\\n",
       "0  ENSG00000000938              0             0             0             0   \n",
       "1  ENSG00000000971              0             0             0             0   \n",
       "2  ENSG00000001461              0             0             0             0   \n",
       "3  ENSG00000001630              0             0             0             0   \n",
       "4  ENSG00000003989              0             0             0             0   \n",
       "\n",
       "   R-HSA-1442490  R-HSA-2565942  R-HSA-380259  R-HSA-380270  R-HSA-438066  \\\n",
       "0              0              0             0             0             0   \n",
       "1              0              0             0             0             0   \n",
       "2              0              0             0             0             0   \n",
       "3              0              0             0             0             0   \n",
       "4              0              0             0             0             0   \n",
       "\n",
       "   ...  R-HSA-373752  R-HSA-3000480  R-HSA-196299  R-HSA-3322077  \\\n",
       "0  ...             0              0             0              0   \n",
       "1  ...             0              0             0              0   \n",
       "2  ...             0              0             0              0   \n",
       "3  ...             0              0             0              0   \n",
       "4  ...             0              0             0              0   \n",
       "\n",
       "   R-HSA-1251985  R-HSA-5339716  R-HSA-5358747  R-HSA-5358749  R-HSA-5358751  \\\n",
       "0              0              0              0              0              0   \n",
       "1              0              0              0              0              0   \n",
       "2              0              0              0              0              0   \n",
       "3              0              0              0              0              0   \n",
       "4              0              0              0              0              0   \n",
       "\n",
       "   R-HSA-5358752  \n",
       "0              0  \n",
       "1              0  \n",
       "2              0  \n",
       "3              0  \n",
       "4              0  \n",
       "\n",
       "[5 rows x 582 columns]"
      ]
     },
     "execution_count": 32,
     "metadata": {},
     "output_type": "execute_result"
    }
   ],
   "source": [
    "df.head(5)"
   ]
  },
  {
   "cell_type": "code",
   "execution_count": 33,
   "id": "c379e6ea-c199-4006-bc81-a298382fae1f",
   "metadata": {},
   "outputs": [
    {
     "name": "stdout",
     "output_type": "stream",
     "text": [
      "Empty DataFrame\n",
      "Columns: []\n",
      "Index: [0, 1, 2, 3, 4, 5, 6, 7, 8, 9, 10, 11, 12, 13, 14, 15, 16, 17, 18, 19, 20, 21, 22, 23, 24, 25, 26, 27, 28, 29, 30, 31, 32, 33, 34, 35, 36, 37, 38, 39, 40, 41, 42, 43, 44, 45, 46, 47, 48, 49, 50, 51, 52, 53, 54, 55, 56, 57, 58, 59, 60, 61, 62, 63, 64, 65, 66, 67, 68, 69, 70, 71, 72, 73, 74, 75, 76, 77, 78, 79, 80, 81, 82, 83, 84, 85, 86, 87, 88, 89, 90, 91, 92, 93, 94, 95, 96, 97, 98, 99, ...]\n",
      "\n",
      "[2699 rows x 0 columns]\n"
     ]
    }
   ],
   "source": [
    "import pandas as pd\n",
    "\n",
    "df = pd.read_csv(\"processed_data_example/TCGA_BRCA/tune/minmax_normalized/pathway_mask.csv\")\n",
    "selected_columns = df.filter(like='1251999', axis=1)\n",
    "\n",
    "\n",
    "print(selected_columns)"
   ]
  },
  {
   "cell_type": "code",
   "execution_count": 34,
   "id": "8157b36a-bedd-4e75-a684-2350bdcc48e6",
   "metadata": {},
   "outputs": [
    {
     "data": {
      "text/plain": [
       "tensor([[0., 0., 0.,  ..., 0., 0., 0.],\n",
       "        [0., 0., 0.,  ..., 0., 0., 0.],\n",
       "        [0., 0., 0.,  ..., 0., 0., 0.],\n",
       "        ...,\n",
       "        [0., 0., 0.,  ..., 0., 0., 0.],\n",
       "        [0., 0., 0.,  ..., 0., 0., 0.],\n",
       "        [0., 0., 0.,  ..., 0., 0., 0.]], device='cuda:0')"
      ]
     },
     "execution_count": 34,
     "metadata": {},
     "output_type": "execute_result"
    }
   ],
   "source": [
    "pathway_mask_tune"
   ]
  },
  {
   "cell_type": "code",
   "execution_count": 35,
   "id": "86a03e96-5864-456e-86de-798ecd16a29d",
   "metadata": {},
   "outputs": [
    {
     "data": {
      "text/plain": [
       "tensor([48., 87.,  3., 53., 37., 36., 25., 28.,  5.,  3.,  5.,  7., 35., 43.,\n",
       "        45., 25., 10., 15.,  6., 19.,  5., 14., 10., 10.,  1., 14., 13.,  8.,\n",
       "        12.,  8.,  9., 16., 18., 13.,  6., 20., 16., 41., 19., 13., 38., 14.,\n",
       "        23., 34., 13.,  9., 16., 22., 16., 20., 16., 37., 35.,  8.,  5., 50.,\n",
       "        67., 18., 24., 16.,  5.,  8.,  6.,  6.,  6.,  5.,  6., 11., 14., 37.,\n",
       "         7.,  7.,  8.,  6., 30., 26., 29.,  8., 31., 58., 10., 15., 16., 14.,\n",
       "        11., 18., 17., 31., 35., 52.,  3., 12., 33., 66., 15., 27.,  8., 41.,\n",
       "        19., 33., 10.,  9.,  5.,  3., 12.,  7., 14.,  5.,  7., 12., 31.,  7.,\n",
       "         7., 35.,  8., 10., 10., 16., 23., 31., 13., 32., 14., 44., 22., 13.,\n",
       "         9., 14., 10., 18.,  8., 16., 36.,  5.,  6., 17.,  8., 44.,  8., 14.,\n",
       "        14., 14.,  9., 10., 27., 14.,  7.,  6.,  8.,  2., 21.,  8.,  7., 11.,\n",
       "        10.,  6., 23., 14.,  8., 11., 14., 14.,  7., 13.,  8., 43., 19.,  8.,\n",
       "        12., 12., 35.,  7., 42., 15., 11., 37.,  6., 11.,  9., 13.,  8.,  8.,\n",
       "         9., 12.,  9., 11.,  9.,  8., 14., 14., 14., 11.,  6.,  4.,  6., 11.,\n",
       "         6.,  6., 14.,  9., 18.,  8., 10.,  5., 14., 14., 14., 12., 14.,  8.,\n",
       "         7., 19.,  9., 58., 63., 37.,  3.,  6.,  9., 22.,  9., 10.,  9., 15.,\n",
       "        14., 31., 25., 29., 18., 29., 21., 17., 11., 13.,  6., 19.,  8.,  6.,\n",
       "         9.,  7., 10.,  5.,  4.,  4.,  6.,  8., 36., 18., 11., 15., 12., 41.,\n",
       "        27., 19., 10.,  8.,  8., 14., 15., 18., 11., 20., 29.,  6.,  4.,  6.,\n",
       "        30.,  9., 23., 25., 12., 10., 10., 23., 11.,  9.,  7., 11., 12., 13.,\n",
       "        10., 10., 22., 11.,  9., 13.,  9.,  8.,  9.,  8.,  8., 11., 13., 17.,\n",
       "        16.,  7., 10.,  8.,  8., 76., 44., 10., 36., 13., 15., 52., 12., 23.,\n",
       "        14., 25., 14., 27.,  7., 10., 12.,  9.,  7.,  6., 56., 31., 20., 14.,\n",
       "        16.,  9., 66., 70., 60.,  8., 10.,  9.,  9.,  9.,  9., 13.,  6.,  8.,\n",
       "        31., 13.,  5.,  4.,  7., 12., 10., 14., 14., 14., 16.,  6.,  1.,  3.,\n",
       "         9.,  7., 23.,  8., 26., 12.,  9.,  6.,  9., 29., 33., 17., 30., 15.,\n",
       "        17., 33.,  8., 14.,  5.,  4.,  5.,  6.,  4.,  7.,  4.,  8.,  5.,  5.,\n",
       "         8.,  5.,  4.,  4.,  7.,  5.,  5.,  8.,  8., 21.,  4., 14., 11.,  6.,\n",
       "         3.,  6.,  6., 38.,  6., 25., 12., 11., 38., 33., 14.,  5., 28., 29.,\n",
       "        26., 38., 32., 23., 29.,  4., 17., 17., 10.,  8., 15., 13., 10.,  4.,\n",
       "         4.,  7.,  6.,  7., 19., 39.,  8., 10.,  3., 11.,  6., 19.,  6., 18.,\n",
       "        20., 24., 25.,  9., 17.,  5.,  9., 12.,  6.,  9., 20.,  6., 16., 13.,\n",
       "        15., 14., 20., 11.,  5., 20.,  8.,  9.,  8., 13.,  5., 14.,  8.,  8.,\n",
       "        10.,  8.,  9.,  6.,  7.,  9.,  7., 14., 10., 12., 11., 19.,  7.,  7.,\n",
       "         8.,  8.,  8., 11., 11.,  9.,  9., 11.,  9.,  4.,  6.,  8.,  4.,  5.,\n",
       "        10.,  6., 13., 18.,  8.,  5., 26., 29., 27., 30.,  5., 17., 10., 18.,\n",
       "         5.,  8.,  8., 10.,  4., 15.,  8.,  7.,  5.,  9., 14., 13., 13.,  8.,\n",
       "        14.,  5., 10., 10., 17., 13., 11., 12., 10.,  3.,  3.,  7.,  2.,  3.,\n",
       "        16., 11.,  9.,  4.,  9., 18., 17.,  8., 12.,  9., 10., 11.,  8.,  6.,\n",
       "         7., 13.,  8.,  4.,  4.,  4.,  3.,  4., 10.,  6., 12.,  4.,  2., 19.,\n",
       "        12., 11.,  5., 13.,  3.,  8.,  3., 12.,  7.,  3.,  6., 11.,  7.,  6.,\n",
       "         3., 14.,  5.,  5.,  5.,  5.,  5.], device='cuda:0')"
      ]
     },
     "execution_count": 35,
     "metadata": {},
     "output_type": "execute_result"
    }
   ],
   "source": [
    "pathway_mask_test.sum(1)"
   ]
  },
  {
   "cell_type": "code",
   "execution_count": 36,
   "id": "88ad38f2-8e99-42ea-a2b2-195e4bf31664",
   "metadata": {},
   "outputs": [
    {
     "data": {
      "text/plain": [
       "torch.Size([669, 2699])"
      ]
     },
     "execution_count": 36,
     "metadata": {},
     "output_type": "execute_result"
    }
   ],
   "source": [
    "x_train_gene.shape"
   ]
  },
  {
   "cell_type": "code",
   "execution_count": 37,
   "id": "28480d93-ee61-4ef8-b4c5-084e401e6229",
   "metadata": {},
   "outputs": [
    {
     "data": {
      "text/plain": [
       "torch.Size([857, 2699])"
      ]
     },
     "execution_count": 37,
     "metadata": {},
     "output_type": "execute_result"
    }
   ],
   "source": [
    "x_train_gene_overall.shape"
   ]
  },
  {
   "cell_type": "code",
   "execution_count": 38,
   "id": "7481bdfb-8690-48e5-b3f1-6bf56944652f",
   "metadata": {},
   "outputs": [
    {
     "name": "stdout",
     "output_type": "stream",
     "text": [
      "torch.Size([581, 2699]) torch.Size([581, 2699])\n"
     ]
    }
   ],
   "source": [
    "print(pathway_mask_tune.shape, pathway_mask_test.shape)"
   ]
  },
  {
   "cell_type": "markdown",
   "id": "d92dc530-2b86-45e8-bc05-07bca648ffe4",
   "metadata": {},
   "source": [
    "## model"
   ]
  },
  {
   "cell_type": "markdown",
   "id": "ef9d423e-6a85-4088-833e-7a02bf1aa3d4",
   "metadata": {},
   "source": [
    "They first use tuned data(80% of the whole data) to find the optim parameter"
   ]
  },
  {
   "cell_type": "code",
   "execution_count": 4,
   "id": "cfffe401-9b6d-4637-bc8e-e0dd4db879d1",
   "metadata": {},
   "outputs": [],
   "source": [
    "import time\n"
   ]
  },
  {
   "cell_type": "code",
   "execution_count": null,
   "id": "d9c5cd9b-3fe4-4a6a-851a-80cc4c6be3d2",
   "metadata": {},
   "outputs": [],
   "source": [
    "%%capture output\n",
    "# %%time\n",
    "\n",
    "start_time = time.time()\n",
    "\n",
    "opt_l2 = 0.\n",
    "opt_lr = 0.\n",
    "opt_dim = 0\n",
    "opt_epoch_num = 0.\n",
    "opt_num_cycle = 0.\n",
    "opt_cr = 0.\n",
    "opt_loss = torch.Tensor([float(\"Inf\")])\n",
    "if torch.cuda.is_available():\n",
    "    opt_loss = opt_loss.cuda()\n",
    "for l2 in L2_Lambda:\n",
    "    for lr in Initial_Learning_Rate:\n",
    "        for Z in z_dim:\n",
    "            for Epoch_num in EPOCH_NUM:\n",
    "                for Num_cycles in NUM_CYCLES:\n",
    "                    for cutting_ratio in CUTTING_RATIO:\n",
    "                        _, _, _, _, train_loss_unsup, eval_loss_unsup = train_KL_PMVAE(x_train_gene, x_train_mirna, x_valid_gene, x_valid_mirna,\n",
    "                                                                                       Z, input_n1, input_n2, pathway_mask_tune,\n",
    "                                                                                       lr, l2, cutting_ratio, Epoch_num, Num_cycles, dtype,\n",
    "                                                                                       path = \"saved_models/unsup_checkpoint_tune.pt\")\n",
    "            \n",
    "                        if eval_loss_unsup < opt_loss:\n",
    "                            opt_l2 = l2\n",
    "                            opt_lr = lr\n",
    "                            opt_dim = Z\n",
    "                            opt_epoch_num = Epoch_num\n",
    "                            opt_num_cycle = Num_cycles\n",
    "                            opt_cr = cutting_ratio\n",
    "                            opt_loss = eval_loss_unsup\n",
    "                        print(\"num_epoch: %s,\" %Epoch_num, \"num_cycles: %s,\" %Num_cycles, \"cutting_ratio: %s.\" %cutting_ratio)\n",
    "                        print(\"L2: %s,\" %l2, \"LR: %s,\" %lr, \"z_dim: %s,\" %Z, \"loss in validation: %s,\" %np.array(eval_loss_unsup.detach().cpu().numpy()).round(4), \"loss in training: %s.\" %np.array(train_loss_unsup.detach().cpu().numpy()).round(4))\n",
    "\n",
    "end_time = time.time()\n",
    "print(\"Optimal num epoch: %s,\" %opt_epoch_num, \"optimal num cycles: %s,\" %opt_num_cycle, \"optimal cutting ratio: %s.\" %opt_cr)\n",
    "print(\"Optimal L2: %s,\" %opt_l2, \"optimal LR: %s,\" %opt_lr, \"optimal z_dim: %s.\" %opt_dim)\n",
    "print(\"--- %s seconds ---\" % (end_time - start_time))"
   ]
  },
  {
   "cell_type": "code",
   "execution_count": 16,
   "id": "9d6fd89d-dd0e-45d8-adc7-4526ff806b73",
   "metadata": {},
   "outputs": [
    {
     "name": "stdout",
     "output_type": "stream",
     "text": [
      "Optimal num epoch: 2400, optimal num cycles: 10, optimal cutting ratio: 0.5.\n",
      "Optimal L2: 0.005, optimal LR: 0.005, optimal z_dim: 16.\n",
      "--- 46159.66844058037 seconds ---\n"
     ]
    }
   ],
   "source": [
    "print(\"Optimal num epoch: %s,\" %opt_epoch_num, \"optimal num cycles: %s,\" %opt_num_cycle, \"optimal cutting ratio: %s.\" %opt_cr)\n",
    "print(\"Optimal L2: %s,\" %opt_l2, \"optimal LR: %s,\" %opt_lr, \"optimal z_dim: %s.\" %opt_dim)\n",
    "print(\"--- %s seconds ---\" % (time.time() - start_time))"
   ]
  },
  {
   "cell_type": "code",
   "execution_count": null,
   "id": "2b069fda-b55d-4322-b1a5-21cdb4654867",
   "metadata": {},
   "outputs": [],
   "source": [
    "#12.82hours"
   ]
  },
  {
   "cell_type": "code",
   "execution_count": 26,
   "id": "d35bed2d-9b0c-49aa-b26f-e862529b54ce",
   "metadata": {},
   "outputs": [
    {
     "name": "stderr",
     "output_type": "stream",
     "text": [
      "IOPub data rate exceeded.\n",
      "The Jupyter server will temporarily stop sending output\n",
      "to the client in order to avoid crashing it.\n",
      "To change this limit, set the config variable\n",
      "`--ServerApp.iopub_data_rate_limit`.\n",
      "\n",
      "Current values:\n",
      "ServerApp.iopub_data_rate_limit=1000000.0 (bytes/sec)\n",
      "ServerApp.rate_limit_window=3.0 (secs)\n",
      "\n",
      "/cloud-home/U1039935/Autosurv/autosurv/KL_PMVAE.py:58: UserWarning: The torch.cuda.*DtypeTensor constructors are no longer recommended. It's best to use methods such as torch.tensor(data, dtype=*, device='cuda') to create tensors. (Triggered internally at ../torch/csrc/tensor/python_tensor.cpp:78.)\n",
      "  z = Variable(torch.cuda.FloatTensor(std.size()).normal_(0, 1))\n"
     ]
    }
   ],
   "source": [
    "output.show()"
   ]
  },
  {
   "cell_type": "code",
   "execution_count": 9,
   "id": "993cf54b-6b4d-44b9-be12-1963976446bc",
   "metadata": {},
   "outputs": [
    {
     "name": "stdout",
     "output_type": "stream",
     "text": [
      "Epoch: 100, Loss in training: [2051.3591], loss in validation: [2070.5073].\n",
      "Epoch: 200, Loss in training: [1964.2042], loss in validation: [1986.018].\n",
      "Epoch: 300, Loss in training: [1920.1187], loss in validation: [1944.1882].\n",
      "Epoch: 400, Loss in training: [1910.1398], loss in validation: [1937.0376].\n",
      "Epoch: 500, Loss in training: [1887.346], loss in validation: [1912.845].\n",
      "Epoch: 600, Loss in training: [1894.7974], loss in validation: [1923.6282].\n",
      "Epoch: 700, Loss in training: [1891.115], loss in validation: [1920.3354].\n",
      "Epoch: 800, Loss in training: [1883.998], loss in validation: [1912.7388].\n",
      "Epoch: 900, Loss in training: [1887.68], loss in validation: [1916.9261].\n",
      "Epoch: 1000, Loss in training: [1875.2795], loss in validation: [1903.9664].\n",
      "Epoch: 1100, Loss in training: [1886.0614], loss in validation: [1915.3828].\n",
      "Epoch: 1200, Loss in training: [1885.7174], loss in validation: [1915.2408].\n",
      "Epoch: 1300, Loss in training: [1882.9482], loss in validation: [1912.4562].\n",
      "Epoch: 1400, Loss in training: [1884.9006], loss in validation: [1913.6569].\n",
      "Epoch: 1500, Loss in training: [1876.4838], loss in validation: [1905.476].\n",
      "Epoch: 1600, Loss in training: [1884.8444], loss in validation: [1914.1364].\n",
      "Epoch: 1700, Loss in training: [1871.025], loss in validation: [1898.8536].\n",
      "Epoch: 1800, Loss in training: [1884.7048], loss in validation: [1914.4128].\n",
      "Epoch: 1900, Loss in training: [1884.4788], loss in validation: [1913.5677].\n",
      "Epoch: 2000, Loss in training: [1879.2396], loss in validation: [1908.6162].\n",
      "Epoch: 2100, Loss in training: [1884.361], loss in validation: [1913.809].\n",
      "Epoch: 2200, Loss in training: [1872.7325], loss in validation: [1900.9696].\n",
      "Epoch: 2300, Loss in training: [1884.3123], loss in validation: [1913.5112].\n",
      "Epoch: 2400, Loss in training: [1884.28], loss in validation: [1913.3378].\n",
      "Saving model...\n",
      "Model saved.\n",
      "9.34\n",
      "Loss in testing: [1913.3378], loss in training: [1884.28].\n"
     ]
    }
   ],
   "source": [
    "train_mean, train_logvar, test_mean, test_logvar, train_loss_unsup, test_loss_unsup = train_KL_PMVAE(x_train_gene_overall, x_train_mirna_overall, x_test_gene_overall, x_test_mirna_overall,\n",
    "                                                                                                     opt_dim, input_n1, input_n2, pathway_mask_test,\n",
    "                                                                                                     opt_lr, opt_l2, opt_cr, opt_epoch_num, opt_num_cycle, dtype, save_model = True,\n",
    "                                                                                                     path = \"saved_models/unsup_checkpoint_overall.pt\")\n",
    "print(\"Loss in testing: %s,\" %np.array(test_loss_unsup.detach().cpu().numpy()).round(4), \"loss in training: %s.\" %np.array(train_loss_unsup.detach().cpu().numpy()).round(4))\n"
   ]
  },
  {
   "cell_type": "markdown",
   "id": "0762a2e2-6a0b-4922-9f7e-8c488d94f4d0",
   "metadata": {},
   "source": [
    "Create the data for LFSurv model (tune data & Overall data)"
   ]
  },
  {
   "cell_type": "code",
   "execution_count": null,
   "id": "130ce97d-00a6-4eb6-80bf-9b60fb6a5d4c",
   "metadata": {},
   "outputs": [],
   "source": [
    "tr_z = train_mean\n",
    "tes_z = test_mean\n",
    "\n",
    "print(\"Training sample size: %s,\" %tr_z.size()[0], \"testing sample size: %s.\" %tes_z.size()[0])"
   ]
  },
  {
   "cell_type": "code",
   "execution_count": null,
   "id": "9f3e3810-d060-4324-94cd-9adae1dadaef",
   "metadata": {},
   "outputs": [],
   "source": [
    "processed_tr_pre = torch.cat((ytime_train_overall, yevent_train_overall, age_train_overall, stage_i_train_overall, stage_ii_train_overall, race_white_train_overall, tr_z), 1)\n",
    "processed_tes_pre = torch.cat((ytime_test_overall, yevent_test_overall, age_test_overall, stage_i_test_overall, stage_ii_test_overall, race_white_test_overall, tes_z), 1)\n",
    "\n",
    "z_count = np.array(list(range(1, tr_z.size()[1]+1, 1))).astype('str')\n",
    "z_names = np.char.add('Z_', z_count).tolist()\n",
    "\n",
    "processed_tr = pd.DataFrame(processed_tr_pre.detach().cpu(), columns = ['OS.time', 'OS', 'age', 'stage_i', 'stage_ii', 'race_white'] + z_names)\n",
    "processed_tr = processed_tr.astype(float)\n",
    "processed_tr = pd.concat([patient_id_train_overall, processed_tr], axis=1)\n",
    "\n",
    "processed_tes = pd.DataFrame(processed_tes_pre.detach().cpu(), columns = ['OS.time', 'OS', 'age', 'stage_i', 'stage_ii', 'race_white'] + z_names)\n",
    "processed_tes = processed_tes.astype(float)\n",
    "processed_tes = pd.concat([patient_id_test_overall, processed_tes], axis=1)\n",
    "\n",
    "tune_id_train = get_match_id(patient_id_train_overall, patient_id_train)\n",
    "tune_id_valid = get_match_id(patient_id_train_overall, patient_id_valid)\n",
    "processed_tr_tune = processed_tr.iloc[tune_id_train]\n",
    "processed_val_tune = processed_tr.iloc[tune_id_valid]\n",
    "\n",
    "processed_tr.to_csv(\"tr_z_2omics.csv\", index=False)\n",
    "processed_tr_tune.to_csv(\"tune_tr_z_2omics.csv\", index=False)\n",
    "processed_val_tune.to_csv(\"tune_val_z_2omics.csv\", index=False)\n",
    "processed_tes.to_csv(\"tes_z_2omics.csv\", index=False)"
   ]
  },
  {
   "cell_type": "code",
   "execution_count": null,
   "id": "881f07f1-ab95-4081-b3e9-be622ae030fa",
   "metadata": {},
   "outputs": [],
   "source": [
    "print(\"--- %s seconds ---\" % (time.time() - start_time))"
   ]
  }
 ],
 "metadata": {
  "kernelspec": {
   "display_name": "VAE",
   "language": "python",
   "name": "vae"
  },
  "language_info": {
   "codemirror_mode": {
    "name": "ipython",
    "version": 3
   },
   "file_extension": ".py",
   "mimetype": "text/x-python",
   "name": "python",
   "nbconvert_exporter": "python",
   "pygments_lexer": "ipython3",
   "version": "3.12.0"
  }
 },
 "nbformat": 4,
 "nbformat_minor": 5
}
