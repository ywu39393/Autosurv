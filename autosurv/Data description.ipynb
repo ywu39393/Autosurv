{
 "cells": [
  {
   "cell_type": "markdown",
   "id": "ceb6792e-e1c1-4a01-9302-71871ef979e5",
   "metadata": {},
   "source": [
    "## Explaination of data used in AUTOsurv"
   ]
  },
  {
   "cell_type": "markdown",
   "id": "89767200-792c-4803-b37c-b176986e9ef1",
   "metadata": {},
   "source": [
    "For any given dataset, 20% of each dataset were kept as testing set that did not participate in any of the model training process. The remaining 80% of the data will be split into 8/2 for training and validation. **Make sure the patient id for miRNA and gene dataset is consistant**. "
   ]
  },
  {
   "cell_type": "markdown",
   "id": "8f14871d-441d-4ec4-ab79-8fdc2a6d6b50",
   "metadata": {},
   "source": [
    "### Gene data(n x [m+7] dataset)"
   ]
  },
  {
   "cell_type": "markdown",
   "id": "53178e49-6a5d-4beb-a16c-34d88948aa4e",
   "metadata": {},
   "source": [
    "It consists 8 different parts, specific function **load_data** was defined to extract them individually.\n",
    "1. Patient ID(nx1)|import as patient ID\n",
    "2. OS(nx1): overall survival| import as yevent_\n",
    "3. OS.time(nx1): overall survival time|import as ytime_\n",
    "4. age(nx1)|import as age_\n",
    "5. race_white(nx1)|import as race_white_\n",
    "6. stage_i(nx1)|import as stage_i_\n",
    "7. stage_ii(nx1)|import as stage_ii_\n",
    "8. gene(nxm):contains m diferent gene's variable|import as x_train\n"
   ]
  },
  {
   "cell_type": "markdown",
   "id": "ce64387f-dbe1-4efe-ac06-f76a8c761ddb",
   "metadata": {},
   "source": [
    "**4-8 were used in model**"
   ]
  },
  {
   "cell_type": "markdown",
   "id": "98de74ff-e287-4e08-9c11-935c992255bf",
   "metadata": {},
   "source": [
    "### mirna data(n x [k+7] dataset)"
   ]
  },
  {
   "cell_type": "markdown",
   "id": "18dff554-4487-4ad0-927c-37abb3943312",
   "metadata": {},
   "source": [
    "All the format are the same as gene data except change the gene data to mirna data(k dimension)"
   ]
  },
  {
   "cell_type": "markdown",
   "id": "0a5a8d72-3cbf-4556-bebc-5429d6d868cc",
   "metadata": {},
   "source": [
    "### pathway mask(m x a dataset)"
   ]
  },
  {
   "cell_type": "markdown",
   "id": "32c06ecd-c46c-4a70-8934-9c73e8a8d960",
   "metadata": {},
   "source": [
    "Specific function **load_pathway** was used to load a bi-adjacency matrix of pathways(a dimension) and genes(m dimension), and then covert it to a Pytorch tensor."
   ]
  },
  {
   "cell_type": "markdown",
   "id": "4a1a5251-f310-4187-8c44-0bf7604e8a45",
   "metadata": {},
   "source": [
    "**The pathway mask data is the same for tune and overall data**"
   ]
  },
  {
   "cell_type": "markdown",
   "id": "ef84ce8b-8b3a-4d8b-b008-e3672c7dfa19",
   "metadata": {},
   "source": [
    "## Requirement list for our own dataset"
   ]
  },
  {
   "cell_type": "markdown",
   "id": "b08b37b2-ef3d-49c8-bc5e-519e653fbce5",
   "metadata": {},
   "source": [
    "1. Gene data with m dimension\n",
    "2. Pathway data with m x n dimension where m corresponding to m different gene and n corresponding to n diferent pathway(matirx is binary)\n",
    "3. Other RNA data\n",
    "4. Other biomaker data"
   ]
  }
 ],
 "metadata": {
  "kernelspec": {
   "display_name": "DKL",
   "language": "python",
   "name": "dkl"
  },
  "language_info": {
   "codemirror_mode": {
    "name": "ipython",
    "version": 3
   },
   "file_extension": ".py",
   "mimetype": "text/x-python",
   "name": "python",
   "nbconvert_exporter": "python",
   "pygments_lexer": "ipython3",
   "version": "3.9.13"
  }
 },
 "nbformat": 4,
 "nbformat_minor": 5
}
