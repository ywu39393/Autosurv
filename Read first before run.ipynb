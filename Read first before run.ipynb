{
 "cells": [
  {
   "cell_type": "markdown",
   "id": "2bf0b109-207b-401f-8a3e-1672c00c8cb3",
   "metadata": {},
   "source": [
    "# Workflow"
   ]
  },
  {
   "cell_type": "markdown",
   "id": "5ed3f193-cb57-4e43-b59e-c39187b96391",
   "metadata": {},
   "source": [
    "Before running the code, check if the data meet the requirement. Check **Data description.ipynb** first."
   ]
  },
  {
   "cell_type": "markdown",
   "id": "adfa39ee-a1d0-47c5-bca5-3f420e27343d",
   "metadata": {},
   "source": [
    "1. Run run_KL_PMVAE.py or KL_PMVAE.ipynb\n",
    "    * Modify the work dict on your own dictory line 29\n",
    "    * Line 36&37 modify the dimension based on different dataset\n",
    "    * Line 48-562 modify the file location\n",
    "2. Run run_LFSurv.py or LFSurv.ipynb\n",
    "    * Modify line 28 with latent layer dimension got from VAE model\n",
    "    * Modify the file location\n",
    "    * Save the final optim parameter(dimension, dropout)\n",
    "3. Run DeepSHAP_LFSurv.py\n",
    "    * Modify the file location\n",
    "    * Line 60 modify with the optim structure\n",
    "    * Line 708 modify with the optim structure\n",
    "    * Line 725 modify numberOfTopFeatures, numberOfLatents\n",
    "4. Run DeepSHAP_KL_PMVAE.py\n",
    "    * Line 85-90 modify based on the VAE model structure\n",
    "    * Line 679 modify important latent features:found by applying DeepSHAP to trained LFSurv\n",
    "   "
   ]
  }
 ],
 "metadata": {
  "kernelspec": {
   "display_name": "TensorFlow GPU 2.9 (py38)",
   "language": "python",
   "name": "tensorflow-gpu-2.9-py38"
  },
  "language_info": {
   "codemirror_mode": {
    "name": "ipython",
    "version": 3
   },
   "file_extension": ".py",
   "mimetype": "text/x-python",
   "name": "python",
   "nbconvert_exporter": "python",
   "pygments_lexer": "ipython3",
   "version": "3.8.13"
  }
 },
 "nbformat": 4,
 "nbformat_minor": 5
}
